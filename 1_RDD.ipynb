{
  "nbformat": 4,
  "nbformat_minor": 0,
  "metadata": {
    "colab": {
      "provenance": []
    },
    "kernelspec": {
      "name": "python3",
      "display_name": "Python 3"
    },
    "language_info": {
      "name": "python"
    }
  },
  "cells": [
    {
      "cell_type": "code",
      "execution_count": null,
      "metadata": {
        "cellView": "form",
        "id": "GPOlggYuNhUU"
      },
      "outputs": [],
      "source": [
        "#@markdown lista osób ``person_list``\n",
        "person_list = [('Piotr', 87), ('Monika', 84), ('Natalia', 11), ('Katarzyna', 60), ('Natalia', 52), ('Magdalena', 60), ('Jakub', 80), ('Dominika', 41), ('Ewa', 64), ('Katarzyna', 59), ('Tomasz', 59), ('Anna', 46), ('Jakub', 71), ('Tomasz', 20), ('Piotr', 15), ('Dominika', 31), ('Michał', 5), ('Agnieszka', 31), ('Adam', 46), ('Piotr', 19), ('Anna', 34), ('Ewa', 7), ('Dominika', 59), ('Kamil', 76), ('Mateusz', 6), ('Mateusz', 64), ('Agnieszka', 1), ('Ewa', 43), ('Marta', 43), ('Łukasz', 80), ('Piotr', 85), ('Adam', 49), ('Kamil', 82), ('Natalia', 16), ('Adam', 76), ('Piotr', 89), ('Ewa', 82), ('Grzegorz', 19), ('Kamil', 19), ('Anna', 57), ('Anna', 68), ('Jakub', 68), ('Jakub', 7), ('Ewa', 33), ('Tomasz', 22), ('Monika', 37), ('Katarzyna', 86), ('Piotr', 5), ('Karolina', 60), ('Michał', 27), ('Jan', 68), ('Adam', 10), ('Tomasz', 15), ('Michał', 71), ('Michał', 15), ('Tomasz', 49), ('Monika', 80), ('Natalia', 15), ('Magdalena', 24), ('Grzegorz', 34), ('Dominika', 58), ('Jakub', 32), ('Karolina', 42), ('Łukasz', 18), ('Jakub', 35), ('Kamil', 27), ('Marta', 88), ('Michał', 63), ('Jan', 80), ('Tomasz', 13), ('Monika', 68), ('Adam', 77), ('Piotr', 77), ('Magdalena', 24), ('Katarzyna', 33), ('Dominika', 56), ('Jakub', 32), ('Adam', 22), ('Anna', 52), ('Karolina', 59), ('Ewa', 6), ('Anna', 76), ('Kamil', 5), ('Kamil', 89), ('Dominika', 7), ('Marta', 55), ('Piotr', 51), ('Ewa', 5), ('Agnieszka', 39), ('Monika', 76), ('Jan', 65), ('Adam', 52), ('Anna', 13), ('Jakub', 20), ('Magdalena', 33), ('Dominika', 57), ('Magdalena', 75), ('Anna', 20), ('Michał', 16), ('Łukasz', 34), ('Dominika', 27), ('Katarzyna', 61), ('Mateusz', 20), ('Jan', 32), ('Marta', 63), ('Marta', 71), ('Magdalena', 31), ('Karolina', 30), ('Marta', 76), ('Karolina', 81), ('Jakub', 49), ('Karolina', 29), ('Tomasz', 19), ('Grzegorz', 11), ('Mateusz', 16), ('Jan', 74), ('Adam', 13), ('Natalia', 28), ('Łukasz', 45), ('Karolina', 29), ('Karolina', 32), ('Monika', 73), ('Piotr', 71), ('Magdalena', 43), ('Łukasz', 87), ('Tomasz', 46), ('Adam', 65), ('Dominika', 59), ('Łukasz', 52), ('Monika', 39), ('Agnieszka', 8), ('Michał', 64), ('Dominika', 72), ('Jan', 39), ('Łukasz', 89), ('Anna', 26), ('Karolina', 73), ('Marta', 5), ('Łukasz', 46), ('Anna', 83), ('Ewa', 26), ('Mateusz', 6), ('Jan', 7), ('Michał', 24), ('Anna', 66), ('Agnieszka', 59), ('Adam', 38), ('Magdalena', 25), ('Monika', 11), ('Adam', 79), ('Kamil', 13), ('Piotr', 45), ('Monika', 62), ('Marta', 6), ('Michał', 34), ('Marta', 34), ('Magdalena', 5), ('Monika', 13), ('Adam', 16), ('Katarzyna', 77), ('Natalia', 80), ('Monika', 74), ('Grzegorz', 42), ('Grzegorz', 26), ('Katarzyna', 21), ('Michał', 7), ('Adam', 52), ('Piotr', 44), ('Magdalena', 72), ('Magdalena', 76), ('Anna', 85), ('Magdalena', 31), ('Piotr', 57), ('Tomasz', 84), ('Mateusz', 80), ('Ewa', 45), ('Dominika', 90), ('Mateusz', 7), ('Dominika', 25), ('Jakub', 36), ('Dominika', 47), ('Jan', 79), ('Michał', 53), ('Ewa', 48), ('Łukasz', 79), ('Łukasz', 61), ('Dominika', 25), ('Karolina', 19), ('Michał', 59), ('Marta', 65), ('Monika', 8), ('Anna', 81), ('Katarzyna', 28), ('Anna', 40), ('Dominika', 44), ('Grzegorz', 61), ('Michał', 90), ('Tomasz', 52), ('Natalia', 33), ('Jan', 72), ('Magdalena', 3), ('Michał', 68), ('Adam', 48), ('Magdalena', 67), ('Agnieszka', 27), ('Mateusz', 78), ('Magdalena', 67), ('Tomasz', 26), ('Łukasz', 47), ('Tomasz', 62), ('Katarzyna', 68), ('Piotr', 9), ('Grzegorz', 62), ('Adam', 66), ('Ewa', 67), ('Mateusz', 76), ('Michał', 3), ('Karolina', 61), ('Michał', 7), ('Karolina', 21), ('Agnieszka', 87), ('Karolina', 64), ('Ewa', 38), ('Magdalena', 1), ('Agnieszka', 65), ('Magdalena', 3), ('Tomasz', 79), ('Ewa', 66), ('Dominika', 56), ('Marta', 13), ('Michał', 71), ('Łukasz', 11), ('Michał', 84), ('Grzegorz', 14), ('Magdalena', 76), ('Piotr', 35), ('Adam', 15), ('Katarzyna', 8), ('Agnieszka', 77), ('Monika', 8), ('Łukasz', 46), ('Michał', 58), ('Mateusz', 22), ('Karolina', 41), ('Natalia', 90), ('Adam', 35), ('Adam', 18), ('Agnieszka', 9), ('Magdalena', 47), ('Jan', 57), ('Jakub', 80), ('Jan', 73), ('Piotr', 72), ('Kamil', 65), ('Michał', 78), ('Katarzyna', 9), ('Jakub', 7), ('Magdalena', 21), ('Michał', 30), ('Katarzyna', 14), ('Mateusz', 75), ('Marta', 75), ('Ewa', 8), ('Tomasz', 50), ('Michał', 29), ('Karolina', 15), ('Jakub', 11), ('Piotr', 4), ('Magdalena', 21), ('Tomasz', 75), ('Kamil', 18), ('Agnieszka', 68), ('Adam', 3), ('Łukasz', 45), ('Monika', 73), ('Piotr', 5), ('Grzegorz', 79), ('Katarzyna', 21), ('Katarzyna', 34), ('Dominika', 60), ('Łukasz', 73), ('Adam', 9), ('Monika', 49), ('Kamil', 79), ('Tomasz', 10), ('Adam', 71), ('Karolina', 75), ('Łukasz', 5), ('Magdalena', 48), ('Agnieszka', 70), ('Anna', 15), ('Łukasz', 28), ('Jakub', 8), ('Ewa', 63), ('Jakub', 25), ('Karolina', 2), ('Kamil', 73), ('Grzegorz', 70), ('Monika', 39), ('Agnieszka', 39), ('Dominika', 10), ('Natalia', 26), ('Agnieszka', 45), ('Agnieszka', 89), ('Katarzyna', 69), ('Dominika', 71), ('Anna', 36), ('Dominika', 73), ('Kamil', 79), ('Tomasz', 27), ('Mateusz', 3), ('Adam', 7), ('Jakub', 58), ('Monika', 21), ('Marta', 57), ('Katarzyna', 65), ('Agnieszka', 89), ('Anna', 53), ('Piotr', 87), ('Ewa', 62), ('Karolina', 61), ('Ewa', 17), ('Dominika', 38), ('Katarzyna', 72), ('Ewa', 65), ('Michał', 18), ('Magdalena', 67), ('Michał', 35), ('Marta', 26), ('Mateusz', 40), ('Ewa', 84), ('Dominika', 16), ('Karolina', 61), ('Karolina', 87), ('Kamil', 37), ('Natalia', 59), ('Anna', 79), ('Monika', 11), ('Piotr', 36), ('Jan', 3), ('Michał', 17), ('Magdalena', 88), ('Anna', 29), ('Jan', 59), ('Adam', 32), ('Kamil', 8), ('Monika', 77), ('Michał', 30), ('Jakub', 31), ('Anna', 39), ('Agnieszka', 23), ('Michał', 22), ('Ewa', 10), ('Łukasz', 57), ('Agnieszka', 89), ('Marta', 22), ('Monika', 79), ('Jan', 57), ('Mateusz', 75), ('Piotr', 40), ('Katarzyna', 54), ('Tomasz', 19), ('Monika', 72), ('Jakub', 15), ('Agnieszka', 84), ('Marta', 45), ('Agnieszka', 72), ('Mateusz', 81), ('Grzegorz', 77), ('Katarzyna', 59), ('Karolina', 80), ('Magdalena', 2), ('Adam', 21), ('Marta', 36), ('Adam', 57), ('Karolina', 83), ('Tomasz', 47), ('Adam', 70), ('Adam', 8), ('Łukasz', 57), ('Anna', 30), ('Grzegorz', 73), ('Piotr', 18), ('Jakub', 32), ('Piotr', 69), ('Piotr', 39), ('Karolina', 10), ('Monika', 52), ('Karolina', 4), ('Ewa', 31), ('Katarzyna', 55), ('Jan', 34), ('Monika', 10), ('Jan', 59), ('Adam', 62), ('Marta', 37), ('Jakub', 31), ('Adam', 54), ('Łukasz', 26), ('Tomasz', 40), ('Agnieszka', 25), ('Karolina', 88), ('Anna', 78), ('Karolina', 57), ('Dominika', 77), ('Anna', 83), ('Kamil', 15), ('Agnieszka', 85), ('Grzegorz', 50), ('Magdalena', 29), ('Tomasz', 64), ('Karolina', 7), ('Anna', 11), ('Adam', 72), ('Ewa', 34), ('Dominika', 42), ('Kamil', 41), ('Natalia', 80), ('Anna', 39), ('Grzegorz', 37), ('Katarzyna', 39), ('Anna', 88), ('Anna', 76), ('Anna', 14), ('Anna', 55), ('Tomasz', 68), ('Grzegorz', 74), ('Ewa', 37), ('Monika', 77), ('Kamil', 19), ('Karolina', 81), ('Magdalena', 83), ('Piotr', 52), ('Jan', 32), ('Monika', 55), ('Jan', 61), ('Grzegorz', 86), ('Natalia', 33), ('Katarzyna', 34), ('Ewa', 62), ('Adam', 49), ('Jakub', 49), ('Magdalena', 44), ('Magdalena', 9), ('Magdalena', 63), ('Jakub', 69), ('Katarzyna', 77), ('Marta', 55), ('Jakub', 5), ('Tomasz', 10), ('Magdalena', 52), ('Natalia', 63), ('Anna', 47), ('Jakub', 50), ('Łukasz', 64), ('Karolina', 61), ('Marta', 6), ('Grzegorz', 2), ('Piotr', 58), ('Mateusz', 45), ('Agnieszka', 47), ('Kamil', 29), ('Kamil', 42), ('Anna', 90), ('Michał', 54), ('Łukasz', 67), ('Michał', 30), ('Mateusz', 9), ('Monika', 48), ('Dominika', 79), ('Adam', 90), ('Anna', 42), ('Mateusz', 45), ('Łukasz', 61), ('Jakub', 13), ('Michał', 80), ('Magdalena', 63), ('Karolina', 41), ('Marta', 79), ('Adam', 17), ('Anna', 48), ('Karolina', 59), ('Agnieszka', 33), ('Dominika', 15), ('Ewa', 56), ('Natalia', 25), ('Piotr', 54), ('Kamil', 50), ('Jan', 43), ('Tomasz', 18), ('Tomasz', 22), ('Marta', 56), ('Mateusz', 52), ('Grzegorz', 47), ('Grzegorz', 27), ('Magdalena', 86), ('Agnieszka', 28), ('Adam', 85), ('Piotr', 85), ('Tomasz', 57), ('Ewa', 62), ('Natalia', 47), ('Dominika', 22), ('Anna', 51), ('Kamil', 48), ('Kamil', 3), ('Anna', 53), ('Anna', 58), ('Jakub', 7), ('Monika', 28), ('Katarzyna', 59), ('Katarzyna', 87), ('Piotr', 26), ('Magdalena', 54), ('Karolina', 74), ('Jakub', 77), ('Jakub', 82), ('Jan', 26), ('Katarzyna', 26), ('Marta', 5), ('Łukasz', 47), ('Łukasz', 22), ('Ewa', 15), ('Monika', 37), ('Ewa', 54), ('Mateusz', 13), ('Mateusz', 57), ('Agnieszka', 22), ('Natalia', 8), ('Michał', 41), ('Michał', 86), ('Jan', 19), ('Piotr', 29), ('Grzegorz', 26), ('Michał', 63), ('Łukasz', 87), ('Mateusz', 59), ('Adam', 51), ('Adam', 10), ('Agnieszka', 47), ('Grzegorz', 21), ('Tomasz', 26), ('Agnieszka', 31), ('Natalia', 4), ('Łukasz', 32), ('Adam', 15), ('Ewa', 31), ('Ewa', 81), ('Grzegorz', 7), ('Michał', 27), ('Piotr', 69), ('Agnieszka', 77), ('Grzegorz', 86), ('Adam', 44), ('Jakub', 75), ('Karolina', 6), ('Anna', 13), ('Piotr', 58), ('Karolina', 39), ('Mateusz', 9), ('Grzegorz', 65), ('Magdalena', 13), ('Adam', 34), ('Jakub', 44), ('Piotr', 15), ('Jakub', 79), ('Kamil', 88), ('Piotr', 81), ('Katarzyna', 49), ('Piotr', 36), ('Grzegorz', 59), ('Marta', 26), ('Agnieszka', 27), ('Natalia', 88), ('Natalia', 39), ('Piotr', 59), ('Karolina', 41), ('Jan', 41), ('Grzegorz', 80), ('Marta', 46), ('Anna', 83), ('Karolina', 26), ('Jakub', 11), ('Tomasz', 8), ('Magdalena', 24), ('Tomasz', 41), ('Jan', 40), ('Marta', 30), ('Karolina', 51), ('Ewa', 38), ('Natalia', 38), ('Kamil', 6), ('Jan', 8), ('Ewa', 30), ('Mateusz', 78), ('Mateusz', 59), ('Piotr', 37), ('Jakub', 76), ('Magdalena', 33), ('Natalia', 73), ('Karolina', 1), ('Tomasz', 14), ('Tomasz', 81), ('Ewa', 87), ('Natalia', 10), ('Mateusz', 71), ('Jan', 21), ('Katarzyna', 16), ('Agnieszka', 35), ('Marta', 43), ('Jan', 8), ('Grzegorz', 15), ('Mateusz', 47), ('Tomasz', 83), ('Kamil', 76), ('Tomasz', 43), ('Piotr', 85), ('Natalia', 2), ('Ewa', 31), ('Agnieszka', 71), ('Ewa', 83), ('Michał', 27), ('Kamil', 32), ('Mateusz', 89), ('Agnieszka', 70), ('Agnieszka', 57), ('Natalia', 12), ('Ewa', 72), ('Dominika', 61), ('Karolina', 10), ('Adam', 58), ('Piotr', 65), ('Dominika', 52), ('Katarzyna', 84), ('Grzegorz', 79), ('Karolina', 80), ('Jakub', 20), ('Katarzyna', 23), ('Kamil', 28), ('Katarzyna', 65), ('Agnieszka', 24), ('Mateusz', 3), ('Natalia', 45), ('Ewa', 61), ('Jan', 74), ('Natalia', 79), ('Grzegorz', 12), ('Grzegorz', 86), ('Katarzyna', 23), ('Mateusz', 32), ('Kamil', 63), ('Marta', 22), ('Karolina', 14), ('Michał', 54), ('Michał', 71), ('Monika', 37), ('Katarzyna', 50), ('Adam', 82), ('Tomasz', 68), ('Grzegorz', 77), ('Kamil', 71), ('Karolina', 59), ('Natalia', 54), ('Anna', 48), ('Mateusz', 28), ('Agnieszka', 76), ('Ewa', 49), ('Anna', 73), ('Jan', 25), ('Anna', 77), ('Jakub', 15), ('Michał', 84), ('Jakub', 12), ('Adam', 87), ('Michał', 61), ('Ewa', 38), ('Ewa', 41), ('Jan', 84), ('Łukasz', 40), ('Mateusz', 52), ('Piotr', 79), ('Monika', 16), ('Grzegorz', 15), ('Jan', 13), ('Ewa', 81), ('Mateusz', 26), ('Marta', 4), ('Michał', 8), ('Marta', 54), ('Ewa', 23), ('Karolina', 40), ('Dominika', 49), ('Magdalena', 83), ('Monika', 86), ('Kamil', 41), ('Dominika', 66), ('Karolina', 82), ('Marta', 46), ('Jan', 37), ('Monika', 74), ('Anna', 14), ('Katarzyna', 2), ('Anna', 12), ('Mateusz', 53), ('Dominika', 62), ('Dominika', 45), ('Grzegorz', 54), ('Mateusz', 69), ('Dominika', 3), ('Michał', 49), ('Jakub', 83), ('Łukasz', 73), ('Dominika', 40), ('Mateusz', 72), ('Monika', 54), ('Adam', 62), ('Monika', 42), ('Tomasz', 16), ('Monika', 84), ('Mateusz', 44), ('Michał', 8), ('Kamil', 41), ('Agnieszka', 14), ('Ewa', 66), ('Monika', 51), ('Jakub', 34), ('Jan', 20), ('Łukasz', 67), ('Tomasz', 35), ('Łukasz', 2), ('Mateusz', 75), ('Mateusz', 61), ('Marta', 35), ('Monika', 85), ('Adam', 44), ('Anna', 68), ('Anna', 40), ('Agnieszka', 30), ('Piotr', 17), ('Katarzyna', 67), ('Katarzyna', 76), ('Ewa', 43), ('Adam', 62), ('Tomasz', 13), ('Tomasz', 27), ('Natalia', 15), ('Tomasz', 77), ('Natalia', 14), ('Dominika', 42), ('Adam', 61), ('Marta', 26), ('Monika', 70), ('Natalia', 12), ('Piotr', 86), ('Anna', 66), ('Monika', 64), ('Michał', 5), ('Kamil', 73), ('Karolina', 83), ('Michał', 14), ('Jakub', 55), ('Tomasz', 64), ('Łukasz', 7), ('Magdalena', 48), ('Monika', 30), ('Dominika', 14), ('Natalia', 66), ('Jakub', 13), ('Natalia', 68), ('Mateusz', 4), ('Łukasz', 39), ('Łukasz', 14), ('Łukasz', 47), ('Mateusz', 35), ('Monika', 26), ('Dominika', 69), ('Jakub', 59), ('Jakub', 76), ('Tomasz', 68), ('Piotr', 4), ('Łukasz', 58), ('Magdalena', 1), ('Jan', 76), ('Michał', 67), ('Dominika', 54), ('Monika', 9), ('Karolina', 27), ('Michał', 44), ('Anna', 30), ('Natalia', 64), ('Dominika', 26), ('Monika', 82), ('Agnieszka', 81), ('Tomasz', 17), ('Katarzyna', 38), ('Mateusz', 90), ('Jan', 70), ('Dominika', 22), ('Kamil', 24), ('Mateusz', 21), ('Monika', 3), ('Mateusz', 90), ('Tomasz', 13), ('Dominika', 20), ('Marta', 74), ('Piotr', 41), ('Monika', 54), ('Natalia', 75), ('Adam', 4), ('Jakub', 10), ('Karolina', 86), ('Piotr', 5), ('Adam', 16), ('Agnieszka', 36), ('Grzegorz', 25), ('Mateusz', 47), ('Karolina', 34), ('Tomasz', 27), ('Tomasz', 21), ('Katarzyna', 88), ('Natalia', 15), ('Dominika', 6), ('Dominika', 59), ('Kamil', 71), ('Ewa', 80), ('Natalia', 31), ('Karolina', 6), ('Grzegorz', 63), ('Dominika', 8), ('Tomasz', 60), ('Natalia', 20), ('Dominika', 72), ('Grzegorz', 35), ('Monika', 68), ('Ewa', 15), ('Marta', 18), ('Dominika', 33), ('Piotr', 83), ('Agnieszka', 20), ('Jan', 6), ('Jan', 38), ('Mateusz', 11), ('Karolina', 28), ('Grzegorz', 73), ('Michał', 39), ('Grzegorz', 90), ('Piotr', 32), ('Piotr', 22), ('Łukasz', 61), ('Ewa', 27), ('Michał', 86), ('Anna', 48), ('Tomasz', 56), ('Jan', 31), ('Grzegorz', 34), ('Agnieszka', 32), ('Adam', 56), ('Michał', 40), ('Mateusz', 7), ('Anna', 17), ('Łukasz', 72), ('Mateusz', 35), ('Monika', 82), ('Piotr', 39), ('Grzegorz', 68), ('Dominika', 77), ('Mateusz', 56), ('Magdalena', 72), ('Dominika', 6), ('Anna', 32), ('Jan', 48), ('Mateusz', 77), ('Agnieszka', 84), ('Mateusz', 81), ('Michał', 89), ('Monika', 15), ('Michał', 81), ('Grzegorz', 10), ('Natalia', 12), ('Karolina', 16), ('Agnieszka', 2), ('Jakub', 87), ('Jakub', 2), ('Jakub', 66), ('Monika', 22), ('Agnieszka', 64), ('Michał', 75), ('Jakub', 79), ('Mateusz', 78), ('Marta', 22), ('Dominika', 78), ('Michał', 81), ('Łukasz', 34), ('Anna', 54), ('Dominika', 75), ('Piotr', 90), ('Jakub', 81), ('Tomasz', 42), ('Magdalena', 62), ('Karolina', 68), ('Grzegorz', 50), ('Piotr', 73), ('Anna', 86), ('Anna', 14), ('Dominika', 77), ('Katarzyna', 86), ('Dominika', 50), ('Piotr', 47), ('Katarzyna', 26), ('Karolina', 40), ('Marta', 24), ('Grzegorz', 63), ('Magdalena', 65), ('Jan', 90), ('Jan', 65), ('Piotr', 72), ('Monika', 35), ('Monika', 42), ('Łukasz', 76), ('Ewa', 81), ('Katarzyna', 18), ('Tomasz', 52), ('Magdalena', 65), ('Karolina', 7), ('Marta', 20), ('Michał', 18), ('Piotr', 27), ('Ewa', 74), ('Piotr', 73), ('Katarzyna', 7), ('Jakub', 34), ('Michał', 13), ('Piotr', 16), ('Adam', 67), ('Adam', 16), ('Monika', 83), ('Tomasz', 65), ('Adam', 55), ('Grzegorz', 37), ('Adam', 30), ('Katarzyna', 39), ('Kamil', 72), ('Marta', 34), ('Mateusz', 11), ('Łukasz', 83), ('Karolina', 32), ('Anna', 87), ('Dominika', 37), ('Anna', 20), ('Piotr', 51), ('Jakub', 21), ('Natalia', 58), ('Karolina', 57), ('Anna', 28), ('Tomasz', 61), ('Kamil', 6), ('Magdalena', 44), ('Marta', 61), ('Tomasz', 48), ('Karolina', 79), ('Jakub', 39), ('Mateusz', 87), ('Grzegorz', 32), ('Ewa', 58), ('Anna', 87), ('Ewa', 53), ('Katarzyna', 73), ('Tomasz', 37), ('Katarzyna', 84), ('Natalia', 84), ('Grzegorz', 55), ('Jakub', 49), ('Agnieszka', 48), ('Adam', 63), ('Grzegorz', 6), ('Agnieszka', 87), ('Natalia', 62), ('Ewa', 59), ('Tomasz', 59), ('Magdalena', 28), ('Grzegorz', 55), ('Piotr', 74), ('Mateusz', 13), ('Anna', 44), ('Kamil', 17), ('Magdalena', 40), ('Monika', 4), ('Jakub', 45), ('Katarzyna', 13), ('Michał', 3), ('Tomasz', 52), ('Michał', 4), ('Tomasz', 17), ('Karolina', 74), ('Kamil', 39), ('Tomasz', 17), ('Mateusz', 40), ('Jan', 46), ('Kamil', 65), ('Monika', 4), ('Monika', 57), ('Monika', 19), ('Dominika', 63), ('Anna', 17), ('Piotr', 14), ('Kamil', 33), ('Anna', 9), ('Mateusz', 58), ('Karolina', 12), ('Mateusz', 55), ('Tomasz', 85), ('Dominika', 9), ('Dominika', 46), ('Magdalena', 16), ('Jakub', 78), ('Dominika', 16), ('Jan', 14), ('Jan', 37), ('Adam', 83), ('Monika', 13), ('Monika', 28), ('Anna', 30), ('Agnieszka', 79), ('Agnieszka', 4), ('Dominika', 59), ('Łukasz', 67), ('Dominika', 18), ('Grzegorz', 26), ('Monika', 53), ('Tomasz', 71), ('Michał', 46), ('Grzegorz', 20), ('Anna', 39), ('Łukasz', 29), ('Ewa', 9), ('Anna', 27), ('Kamil', 67), ('Dominika', 15), ('Karolina', 35), ('Łukasz', 34), ('Natalia', 51), ('Kamil', 27), ('Mateusz', 10), ('Grzegorz', 70), ('Jakub', 20), ('Adam', 80), ('Łukasz', 6), ('Adam', 33), ('Adam', 71), ('Monika', 56), ('Karolina', 25), ('Karolina', 39), ('Marta', 43), ('Anna', 30), ('Mateusz', 48), ('Michał', 39), ('Mateusz', 1), ('Piotr', 66), ('Karolina', 60), ('Ewa', 9), ('Grzegorz', 31), ('Tomasz', 15), ('Anna', 54), ('Magdalena', 78), ('Jakub', 60), ('Michał', 67), ('Katarzyna', 74), ('Dominika', 44), ('Marta', 65), ('Jan', 5), ('Kamil', 46), ('Dominika', 63), ('Marta', 74), ('Grzegorz', 45), ('Jan', 69), ('Kamil', 37), ('Mateusz', 58), ('Tomasz', 73), ('Grzegorz', 18), ('Tomasz', 72), ('Marta', 54), ('Marta', 37), ('Katarzyna', 80), ('Michał', 43), ('Mateusz', 20), ('Adam', 90), ('Anna', 83), ('Magdalena', 28), ('Piotr', 47), ('Mateusz', 16), ('Piotr', 28), ('Natalia', 73), ('Agnieszka', 32), ('Magdalena', 16), ('Magdalena', 85), ('Ewa', 34), ('Piotr', 22), ('Jan', 39), ('Monika', 8), ('Adam', 37), ('Magdalena', 67), ('Ewa', 25), ('Łukasz', 20), ('Katarzyna', 65), ('Piotr', 56), ('Adam', 66), ('Adam', 77), ('Piotr', 8), ('Ewa', 68), ('Anna', 48), ('Grzegorz', 35), ('Jan', 68), ('Kamil', 40), ('Tomasz', 6), ('Piotr', 47), ('Anna', 89), ('Jan', 37), ('Grzegorz', 56), ('Tomasz', 67), ('Grzegorz', 84), ('Marta', 69), ('Karolina', 6), ('Karolina', 83), ('Dominika', 2), ('Agnieszka', 42), ('Magdalena', 20), ('Natalia', 44), ('Magdalena', 90), ('Natalia', 46), ('Anna', 50), ('Marta', 74), ('Tomasz', 55), ('Kamil', 83), ('Dominika', 2), ('Anna', 15), ('Piotr', 43), ('Piotr', 6), ('Monika', 86), ('Michał', 39), ('Ewa', 60), ('Agnieszka', 67), ('Magdalena', 81), ('Marta', 41), ('Karolina', 89), ('Natalia', 87), ('Łukasz', 28), ('Dominika', 11), ('Piotr', 60), ('Jakub', 74), ('Magdalena', 64), ('Jan', 7), ('Tomasz', 73), ('Jan', 34), ('Łukasz', 7), ('Kamil', 72), ('Michał', 63), ('Jakub', 84), ('Monika', 35), ('Katarzyna', 65), ('Dominika', 38), ('Monika', 40), ('Kamil', 10), ('Michał', 50), ('Łukasz', 83), ('Karolina', 79), ('Dominika', 66), ('Dominika', 17), ('Ewa', 31), ('Grzegorz', 39), ('Mateusz', 23), ('Anna', 79), ('Karolina', 15), ('Kamil', 63), ('Magdalena', 46), ('Monika', 20), ('Katarzyna', 42), ('Monika', 58), ('Tomasz', 58), ('Michał', 22), ('Magdalena', 79), ('Karolina', 30), ('Jan', 33), ('Agnieszka', 32), ('Katarzyna', 88), ('Katarzyna', 7), ('Łukasz', 37), ('Michał', 33), ('Dominika', 4), ('Katarzyna', 53), ('Jan', 19), ('Piotr', 76), ('Anna', 71), ('Agnieszka', 16), ('Jan', 61), ('Katarzyna', 78), ('Magdalena', 80), ('Michał', 33), ('Mateusz', 34), ('Anna', 1), ('Mateusz', 1), ('Anna', 63), ('Kamil', 62), ('Adam', 30), ('Tomasz', 27), ('Piotr', 59), ('Marta', 71), ('Ewa', 6), ('Katarzyna', 90), ('Tomasz', 79), ('Łukasz', 26), ('Mateusz', 57), ('Kamil', 50), ('Monika', 62), ('Agnieszka', 32), ('Dominika', 32), ('Natalia', 2), ('Magdalena', 64), ('Mateusz', 59), ('Natalia', 27), ('Ewa', 57), ('Ewa', 59), ('Michał', 36), ('Dominika', 47), ('Jakub', 27), ('Jakub', 72), ('Monika', 80), ('Grzegorz', 31), ('Dominika', 46), ('Marta', 51), ('Michał', 49), ('Kamil', 89), ('Natalia', 61), ('Natalia', 26), ('Anna', 26), ('Piotr', 50), ('Magdalena', 28), ('Adam', 81), ('Natalia', 76), ('Karolina', 66), ('Agnieszka', 3), ('Łukasz', 57), ('Katarzyna', 23), ('Dominika', 48), ('Łukasz', 82), ('Dominika', 63), ('Adam', 38), ('Mateusz', 73), ('Kamil', 76), ('Natalia', 49), ('Mateusz', 66), ('Jakub', 5), ('Anna', 49), ('Karolina', 41), ('Ewa', 22), ('Łukasz', 14), ('Natalia', 20), ('Mateusz', 90), ('Ewa', 49), ('Grzegorz', 48), ('Agnieszka', 82), ('Karolina', 17), ('Dominika', 55), ('Piotr', 46), ('Łukasz', 20), ('Piotr', 81), ('Monika', 8), ('Jakub', 21), ('Magdalena', 75), ('Kamil', 65), ('Jan', 75), ('Tomasz', 84), ('Natalia', 12), ('Katarzyna', 71), ('Katarzyna', 63), ('Piotr', 71), ('Michał', 50), ('Katarzyna', 48), ('Ewa', 24), ('Adam', 36), ('Dominika', 43), ('Marta', 47), ('Michał', 56), ('Natalia', 46), ('Jakub', 85), ('Jakub', 67), ('Jakub', 41), ('Agnieszka', 34), ('Katarzyna', 34), ('Kamil', 11), ('Łukasz', 1), ('Magdalena', 8), ('Agnieszka', 88), ('Łukasz', 15), ('Dominika', 82), ('Dominika', 42), ('Karolina', 11), ('Jakub', 25), ('Piotr', 30), ('Grzegorz', 46), ('Łukasz', 87), ('Dominika', 41), ('Jakub', 1), ('Łukasz', 59), ('Jakub', 80), ('Adam', 41), ('Jan', 38), ('Monika', 56), ('Agnieszka', 81), ('Piotr', 60), ('Łukasz', 6), ('Jan', 13), ('Agnieszka', 84), ('Magdalena', 78), ('Mateusz', 42), ('Natalia', 58), ('Adam', 69), ('Anna', 23), ('Magdalena', 28), ('Grzegorz', 81), ('Mateusz', 70), ('Jan', 65), ('Natalia', 32), ('Natalia', 8), ('Karolina', 29), ('Monika', 58), ('Adam', 19), ('Natalia', 24), ('Mateusz', 83), ('Monika', 56), ('Grzegorz', 22), ('Katarzyna', 50), ('Michał', 40), ('Monika', 79), ('Łukasz', 42), ('Grzegorz', 70), ('Mateusz', 24), ('Mateusz', 83), ('Grzegorz', 17), ('Katarzyna', 76), ('Dominika', 89), ('Natalia', 49), ('Agnieszka', 69), ('Tomasz', 63), ('Kamil', 79), ('Monika', 3), ('Grzegorz', 42), ('Tomasz', 75), ('Adam', 76), ('Łukasz', 9), ('Jakub', 31), ('Michał', 38), ('Mateusz', 58), ('Natalia', 36), ('Jakub', 49), ('Mateusz', 33), ('Kamil', 16), ('Mateusz', 10), ('Magdalena', 31), ('Magdalena', 55), ('Adam', 31), ('Ewa', 58), ('Karolina', 12), ('Dominika', 40), ('Dominika', 56), ('Marta', 50), ('Monika', 86), ('Natalia', 6), ('Magdalena', 56), ('Katarzyna', 42), ('Anna', 21), ('Ewa', 11), ('Tomasz', 60), ('Monika', 46), ('Dominika', 24), ('Piotr', 1), ('Kamil', 17), ('Ewa', 14), ('Katarzyna', 59), ('Tomasz', 19), ('Anna', 17), ('Natalia', 42), ('Natalia', 57), ('Monika', 29), ('Natalia', 10), ('Michał', 5), ('Katarzyna', 59), ('Agnieszka', 76), ('Michał', 17), ('Jan', 77), ('Agnieszka', 5), ('Adam', 65), ('Marta', 45), ('Kamil', 19), ('Magdalena', 80), ('Monika', 9), ('Dominika', 6), ('Marta', 80), ('Tomasz', 38), ('Monika', 5), ('Tomasz', 74), ('Ewa', 54), ('Michał', 1), ('Monika', 5), ('Grzegorz', 12), ('Grzegorz', 73), ('Łukasz', 32), ('Monika', 67), ('Jan', 20), ('Grzegorz', 90), ('Mateusz', 9), ('Marta', 60), ('Katarzyna', 60), ('Jakub', 40), ('Piotr', 16), ('Tomasz', 66), ('Ewa', 49), ('Karolina', 44), ('Piotr', 81), ('Łukasz', 58), ('Ewa', 52), ('Katarzyna', 77), ('Agnieszka', 77), ('Dominika', 23), ('Marta', 85), ('Karolina', 37), ('Magdalena', 35), ('Marta', 37), ('Katarzyna', 65), ('Michał', 1), ('Dominika', 68), ('Piotr', 63), ('Michał', 80), ('Magdalena', 6), ('Katarzyna', 53), ('Jakub', 7), ('Karolina', 24), ('Jan', 48), ('Michał', 34), ('Piotr', 11), ('Monika', 60), ('Katarzyna', 42), ('Karolina', 33), ('Karolina', 75), ('Magdalena', 70), ('Katarzyna', 17), ('Jakub', 88), ('Marta', 46), ('Magdalena', 67), ('Michał', 82), ('Marta', 66), ('Natalia', 15), ('Michał', 90), ('Natalia', 42), ('Anna', 30), ('Piotr', 19), ('Grzegorz', 49), ('Dominika', 13), ('Adam', 86), ('Dominika', 10), ('Dominika', 84), ('Katarzyna', 64), ('Piotr', 7), ('Monika', 35), ('Kamil', 53), ('Agnieszka', 21), ('Jakub', 89), ('Ewa', 33), ('Łukasz', 37), ('Kamil', 47), ('Monika', 25), ('Katarzyna', 61), ('Dominika', 33), ('Mateusz', 19), ('Monika', 46), ('Ewa', 29), ('Natalia', 88), ('Katarzyna', 47), ('Mateusz', 32), ('Mateusz', 14), ('Karolina', 79), ('Grzegorz', 69), ('Katarzyna', 6), ('Jakub', 9), ('Katarzyna', 66), ('Jan', 4), ('Monika', 52), ('Monika', 53), ('Mateusz', 78), ('Grzegorz', 54), ('Anna', 51), ('Adam', 6), ('Mateusz', 11), ('Piotr', 23), ('Dominika', 8), ('Michał', 12), ('Ewa', 37), ('Karolina', 55), ('Ewa', 71), ('Grzegorz', 60), ('Kamil', 72), ('Kamil', 27), ('Mateusz', 27), ('Jakub', 65), ('Monika', 37), ('Michał', 24), ('Agnieszka', 80), ('Dominika', 43), ('Jakub', 23), ('Dominika', 74), ('Marta', 72), ('Kamil', 51), ('Agnieszka', 61), ('Kamil', 88), ('Jakub', 1), ('Monika', 59), ('Adam', 1), ('Jakub', 66), ('Grzegorz', 71), ('Kamil', 88), ('Dominika', 75), ('Anna', 30), ('Michał', 44), ('Monika', 20), ('Karolina', 7), ('Natalia', 47), ('Kamil', 25), ('Magdalena', 31), ('Jakub', 42), ('Kamil', 4), ('Kamil', 57), ('Agnieszka', 60), ('Ewa', 38), ('Piotr', 7), ('Jan', 8), ('Marta', 17), ('Dominika', 13), ('Dominika', 5), ('Łukasz', 66), ('Marta', 8), ('Agnieszka', 5), ('Agnieszka', 25), ('Michał', 44), ('Dominika', 16), ('Jakub', 28), ('Marta', 20), ('Jakub', 40), ('Adam', 7), ('Agnieszka', 30), ('Adam', 35), ('Grzegorz', 29), ('Michał', 50), ('Jan', 85), ('Michał', 32), ('Magdalena', 35), ('Agnieszka', 52), ('Monika', 40), ('Adam', 73), ('Marta', 1), ('Katarzyna', 29), ('Jakub', 25), ('Natalia', 73), ('Ewa', 10), ('Piotr', 3), ('Anna', 84), ('Grzegorz', 15), ('Jan', 67), ('Karolina', 41), ('Łukasz', 12), ('Tomasz', 60), ('Tomasz', 83), ('Monika', 8), ('Grzegorz', 36), ('Piotr', 82), ('Monika', 37), ('Jan', 72), ('Mateusz', 86), ('Tomasz', 31), ('Natalia', 14), ('Monika', 30), ('Magdalena', 5), ('Łukasz', 81), ('Dominika', 12), ('Adam', 2), ('Agnieszka', 26), ('Jan', 49), ('Michał', 6), ('Karolina', 7), ('Ewa', 5), ('Jakub', 69), ('Michał', 53), ('Natalia', 45), ('Marta', 85), ('Michał', 87), ('Grzegorz', 83), ('Adam', 90), ('Michał', 60), ('Monika', 69), ('Jan', 24), ('Grzegorz', 34), ('Mateusz', 87), ('Piotr', 62), ('Mateusz', 74), ('Tomasz', 88), ('Dominika', 29), ('Tomasz', 45), ('Jakub', 52), ('Karolina', 44), ('Michał', 61), ('Jan', 81), ('Grzegorz', 81), ('Agnieszka', 25), ('Anna', 64), ('Natalia', 41), ('Jan', 32), ('Ewa', 46), ('Dominika', 25), ('Natalia', 7), ('Jan', 84), ('Łukasz', 77), ('Łukasz', 37), ('Tomasz', 53), ('Anna', 49), ('Grzegorz', 64), ('Agnieszka', 33), ('Ewa', 69), ('Kamil', 38), ('Tomasz', 7), ('Magdalena', 88), ('Dominika', 83), ('Jan', 5), ('Jakub', 26), ('Tomasz', 56), ('Mateusz', 85), ('Ewa', 1), ('Dominika', 66), ('Dominika', 36), ('Jan', 40), ('Michał', 62), ('Karolina', 1), ('Grzegorz', 73), ('Karolina', 90), ('Agnieszka', 71), ('Michał', 37), ('Marta', 44), ('Agnieszka', 84), ('Jan', 38), ('Mateusz', 29), ('Łukasz', 14), ('Ewa', 70), ('Natalia', 46), ('Agnieszka', 79), ('Grzegorz', 55), ('Anna', 18), ('Agnieszka', 54), ('Natalia', 90), ('Grzegorz', 45), ('Grzegorz', 68), ('Agnieszka', 49), ('Piotr', 15), ('Mateusz', 66), ('Natalia', 68), ('Magdalena', 4), ('Łukasz', 10), ('Natalia', 22), ('Anna', 10), ('Jakub', 53), ('Natalia', 81), ('Jan', 29), ('Natalia', 62), ('Karolina', 78), ('Monika', 69), ('Piotr', 72), ('Michał', 13), ('Natalia', 66), ('Kamil', 29), ('Piotr', 69), ('Jakub', 60), ('Grzegorz', 47), ('Dominika', 1), ('Monika', 29), ('Monika', 48), ('Piotr', 62), ('Ewa', 85), ('Natalia', 9), ('Agnieszka', 61), ('Dominika', 70), ('Michał', 50), ('Ewa', 30), ('Katarzyna', 1), ('Łukasz', 33), ('Piotr', 81), ('Marta', 14), ('Anna', 44), ('Michał', 89), ('Marta', 62), ('Natalia', 81), ('Mateusz', 87), ('Ewa', 27), ('Mateusz', 83), ('Magdalena', 29), ('Łukasz', 60), ('Magdalena', 79), ('Jakub', 71), ('Grzegorz', 16), ('Kamil', 79), ('Dominika', 25), ('Kamil', 39), ('Piotr', 59), ('Piotr', 65), ('Grzegorz', 8), ('Jan', 3), ('Michał', 21), ('Tomasz', 7), ('Katarzyna', 42), ('Jakub', 9), ('Dominika', 84), ('Jan', 27), ('Adam', 70), ('Michał', 31), ('Anna', 53), ('Tomasz', 52), ('Dominika', 73), ('Tomasz', 30), ('Monika', 77), ('Katarzyna', 78), ('Karolina', 81), ('Kamil', 46), ('Tomasz', 83), ('Mateusz', 4), ('Tomasz', 77), ('Grzegorz', 56), ('Monika', 15), ('Kamil', 69), ('Piotr', 50), ('Ewa', 6), ('Ewa', 6), ('Ewa', 8), ('Natalia', 26), ('Marta', 38), ('Agnieszka', 70), ('Dominika', 55), ('Łukasz', 87), ('Karolina', 85), ('Ewa', 48), ('Michał', 56), ('Adam', 49), ('Jakub', 79), ('Natalia', 57), ('Anna', 25), ('Michał', 82), ('Marta', 41), ('Natalia', 41), ('Ewa', 44), ('Agnieszka', 66), ('Adam', 75), ('Piotr', 6), ('Agnieszka', 72), ('Kamil', 66), ('Dominika', 5), ('Ewa', 14), ('Magdalena', 39), ('Natalia', 43), ('Marta', 86), ('Ewa', 32), ('Anna', 68), ('Dominika', 2), ('Grzegorz', 64), ('Monika', 3), ('Marta', 80), ('Łukasz', 31), ('Michał', 70), ('Michał', 70), ('Natalia', 37), ('Dominika', 39), ('Agnieszka', 67), ('Katarzyna', 2), ('Michał', 36), ('Jan', 85), ('Agnieszka', 20), ('Adam', 23), ('Grzegorz', 75), ('Łukasz', 27), ('Agnieszka', 22), ('Katarzyna', 70), ('Tomasz', 72), ('Ewa', 90), ('Grzegorz', 61), ('Natalia', 33), ('Łukasz', 85), ('Kamil', 57), ('Agnieszka', 63), ('Michał', 85), ('Łukasz', 62), ('Jan', 43), ('Piotr', 60), ('Jan', 40), ('Kamil', 2), ('Jan', 41), ('Piotr', 21), ('Katarzyna', 80), ('Ewa', 11), ('Łukasz', 82), ('Katarzyna', 9), ('Natalia', 38), ('Jan', 7), ('Dominika', 69), ('Anna', 24), ('Anna', 13), ('Marta', 77), ('Mateusz', 43), ('Agnieszka', 66), ('Monika', 40), ('Marta', 40), ('Katarzyna', 38), ('Agnieszka', 74), ('Piotr', 38), ('Jan', 52), ('Marta', 51), ('Tomasz', 37), ('Marta', 56), ('Adam', 52), ('Karolina', 75), ('Łukasz', 2), ('Natalia', 40), ('Kamil', 74), ('Monika', 18), ('Dominika', 81), ('Tomasz', 4), ('Jakub', 67), ('Jan', 27), ('Katarzyna', 5), ('Natalia', 22), ('Kamil', 43), ('Kamil', 18), ('Dominika', 5), ('Grzegorz', 87), ('Karolina', 90), ('Karolina', 16), ('Michał', 13), ('Jakub', 9), ('Magdalena', 86), ('Monika', 74), ('Adam', 31), ('Grzegorz', 3), ('Anna', 12), ('Katarzyna', 59), ('Natalia', 1), ('Anna', 12), ('Katarzyna', 54), ('Dominika', 65), ('Jan', 77), ('Piotr', 21), ('Kamil', 34), ('Jan', 54), ('Dominika', 88), ('Monika', 82), ('Karolina', 86), ('Ewa', 89), ('Monika', 76), ('Natalia', 18), ('Dominika', 18), ('Dominika', 9), ('Katarzyna', 77), ('Katarzyna', 62), ('Mateusz', 30), ('Kamil', 77), ('Dominika', 67), ('Jan', 38), ('Grzegorz', 85), ('Tomasz', 89), ('Jan', 59), ('Agnieszka', 80), ('Ewa', 14), ('Piotr', 47), ('Ewa', 8), ('Grzegorz', 58), ('Adam', 39), ('Łukasz', 79), ('Mateusz', 37), ('Katarzyna', 49), ('Monika', 1), ('Marta', 31), ('Łukasz', 86), ('Magdalena', 37), ('Jan', 22), ('Agnieszka', 74), ('Anna', 27), ('Mateusz', 26), ('Marta', 42), ('Katarzyna', 3), ('Mateusz', 1), ('Natalia', 30), ('Tomasz', 29), ('Grzegorz', 70), ('Jan', 2), ('Kamil', 75), ('Anna', 52), ('Michał', 63), ('Adam', 58), ('Mateusz', 19), ('Mateusz', 70), ('Jan', 21), ('Natalia', 33), ('Piotr', 15), ('Katarzyna', 45), ('Jan', 72), ('Grzegorz', 67), ('Magdalena', 66), ('Monika', 19), ('Anna', 39), ('Kamil', 4), ('Tomasz', 30), ('Agnieszka', 73), ('Anna', 90), ('Katarzyna', 1), ('Magdalena', 12), ('Marta', 77), ('Anna', 85), ('Magdalena', 75), ('Ewa', 20), ('Adam', 4), ('Michał', 38), ('Mateusz', 60), ('Tomasz', 88), ('Łukasz', 77), ('Natalia', 60), ('Kamil', 9), ('Mateusz', 74), ('Dominika', 5), ('Piotr', 57), ('Karolina', 5), ('Piotr', 31), ('Mateusz', 23), ('Ewa', 36), ('Łukasz', 74), ('Grzegorz', 73), ('Natalia', 12), ('Anna', 48), ('Michał', 21), ('Jakub', 2), ('Dominika', 45), ('Katarzyna', 38), ('Agnieszka', 72), ('Karolina', 42), ('Michał', 12), ('Anna', 25), ('Łukasz', 74), ('Mateusz', 59), ('Grzegorz', 90), ('Tomasz', 14), ('Łukasz', 38), ('Natalia', 66), ('Magdalena', 22), ('Monika', 62), ('Kamil', 38), ('Jan', 32), ('Kamil', 51), ('Kamil', 43), ('Mateusz', 51), ('Dominika', 25), ('Ewa', 87), ('Karolina', 64), ('Piotr', 37), ('Karolina', 85), ('Marta', 9), ('Jakub', 90), ('Kamil', 58), ('Natalia', 8), ('Adam', 19), ('Tomasz', 72), ('Dominika', 28), ('Grzegorz', 81), ('Michał', 33), ('Dominika', 76), ('Grzegorz', 72), ('Magdalena', 20), ('Łukasz', 65), ('Jakub', 2), ('Karolina', 3), ('Agnieszka', 4), ('Łukasz', 30), ('Magdalena', 1), ('Piotr', 52), ('Karolina', 42), ('Marta', 39), ('Dominika', 34), ('Kamil', 74), ('Karolina', 35), ('Michał', 72), ('Katarzyna', 51), ('Monika', 74), ('Natalia', 50), ('Michał', 47), ('Anna', 29), ('Karolina', 85), ('Dominika', 81), ('Grzegorz', 39), ('Mateusz', 58), ('Natalia', 9), ('Adam', 82), ('Adam', 14), ('Agnieszka', 79), ('Natalia', 30), ('Grzegorz', 14), ('Marta', 45), ('Monika', 66), ('Katarzyna', 79), ('Katarzyna', 27), ('Anna', 60), ('Kamil', 57), ('Marta', 78), ('Anna', 75), ('Michał', 29), ('Kamil', 56), ('Łukasz', 44), ('Dominika', 83), ('Michał', 40), ('Adam', 87), ('Ewa', 65), ('Magdalena', 11), ('Magdalena', 14), ('Kamil', 58), ('Jakub', 32), ('Piotr', 74), ('Łukasz', 9), ('Mateusz', 27), ('Kamil', 55), ('Jan', 18), ('Piotr', 75), ('Mateusz', 55), ('Mateusz', 14), ('Jakub', 20), ('Natalia', 1), ('Adam', 57), ('Piotr', 22), ('Piotr', 62), ('Jan', 30), ('Anna', 82), ('Karolina', 27), ('Kamil', 63), ('Ewa', 16), ('Dominika', 59), ('Anna', 53), ('Anna', 51), ('Dominika', 81), ('Kamil', 49), ('Karolina', 76), ('Karolina', 33), ('Karolina', 63), ('Mateusz', 11), ('Jakub', 32), ('Jakub', 82), ('Kamil', 33), ('Michał', 67), ('Dominika', 78), ('Michał', 51), ('Michał', 53), ('Agnieszka', 90), ('Jakub', 14), ('Dominika', 76), ('Kamil', 43), ('Monika', 54), ('Jakub', 1), ('Katarzyna', 33), ('Anna', 61), ('Marta', 22), ('Magdalena', 2), ('Ewa', 64), ('Katarzyna', 2), ('Michał', 59), ('Natalia', 26), ('Marta', 18), ('Natalia', 81), ('Łukasz', 62), ('Tomasz', 16), ('Adam', 55), ('Anna', 19), ('Agnieszka', 38), ('Michał', 76), ('Kamil', 59), ('Marta', 24), ('Jakub', 49), ('Tomasz', 75), ('Anna', 81), ('Kamil', 23), ('Anna', 8), ('Katarzyna', 25), ('Dominika', 28), ('Monika', 47), ('Adam', 80), ('Piotr', 28), ('Agnieszka', 86), ('Ewa', 5), ('Katarzyna', 82), ('Natalia', 4), ('Magdalena', 1), ('Natalia', 76), ('Kamil', 30), ('Monika', 9), ('Marta', 58), ('Ewa', 25), ('Magdalena', 72), ('Michał', 42), ('Jakub', 90), ('Magdalena', 60), ('Monika', 34), ('Magdalena', 50), ('Tomasz', 80), ('Łukasz', 36), ('Kamil', 33), ('Monika', 13), ('Jakub', 11), ('Monika', 26), ('Anna', 46), ('Grzegorz', 80), ('Natalia', 28), ('Magdalena', 74), ('Magdalena', 41), ('Karolina', 63), ('Mateusz', 27), ('Ewa', 7), ('Magdalena', 2), ('Michał', 81), ('Mateusz', 26), ('Łukasz', 32), ('Piotr', 39), ('Tomasz', 18), ('Magdalena', 16), ('Magdalena', 67), ('Jan', 2), ('Kamil', 56), ('Kamil', 69), ('Adam', 45), ('Magdalena', 1), ('Magdalena', 79), ('Ewa', 57), ('Magdalena', 38), ('Tomasz', 1), ('Monika', 72), ('Piotr', 63), ('Adam', 27), ('Marta', 38), ('Mateusz', 77), ('Jan', 2), ('Mateusz', 42), ('Natalia', 63), ('Dominika', 29), ('Karolina', 5), ('Agnieszka', 84), ('Marta', 4), ('Łukasz', 39), ('Karolina', 78), ('Michał', 85), ('Agnieszka', 1), ('Adam', 8), ('Mateusz', 28), ('Kamil', 3), ('Kamil', 30), ('Łukasz', 29), ('Marta', 85), ('Magdalena', 18), ('Michał', 40), ('Adam', 31), ('Dominika', 6), ('Michał', 22), ('Anna', 42), ('Magdalena', 42), ('Kamil', 17), ('Katarzyna', 37), ('Agnieszka', 31), ('Natalia', 45), ('Agnieszka', 21), ('Adam', 50), ('Grzegorz', 69), ('Monika', 84), ('Mateusz', 65), ('Ewa', 49), ('Karolina', 86), ('Mateusz', 31), ('Łukasz', 36), ('Dominika', 15), ('Adam', 36), ('Kamil', 58), ('Piotr', 54), ('Marta', 39), ('Ewa', 21), ('Natalia', 9), ('Anna', 46), ('Dominika', 9), ('Katarzyna', 32), ('Kamil', 60), ('Mateusz', 62), ('Monika', 26), ('Kamil', 48), ('Ewa', 11), ('Adam', 80), ('Adam', 88), ('Katarzyna', 45), ('Magdalena', 6), ('Katarzyna', 45), ('Grzegorz', 27), ('Natalia', 20), ('Ewa', 83), ('Jan', 82), ('Mateusz', 76), ('Kamil', 53), ('Karolina', 74), ('Kamil', 53), ('Karolina', 52), ('Łukasz', 34), ('Kamil', 19), ('Łukasz', 32), ('Kamil', 38), ('Michał', 47), ('Magdalena', 27), ('Mateusz', 9), ('Karolina', 44), ('Tomasz', 51), ('Karolina', 16), ('Ewa', 80), ('Piotr', 9), ('Grzegorz', 89), ('Anna', 71), ('Kamil', 62), ('Adam', 41), ('Jakub', 74), ('Grzegorz', 26), ('Michał', 27), ('Grzegorz', 57), ('Grzegorz', 35), ('Grzegorz', 3), ('Marta', 35), ('Anna', 89), ('Michał', 39), ('Agnieszka', 89), ('Karolina', 26), ('Łukasz', 21), ('Łukasz', 83), ('Magdalena', 33), ('Michał', 4), ('Łukasz', 75), ('Michał', 85), ('Piotr', 57), ('Grzegorz', 52), ('Katarzyna', 10), ('Anna', 31), ('Magdalena', 88), ('Tomasz', 89), ('Michał', 20), ('Ewa', 18), ('Agnieszka', 76), ('Piotr', 88), ('Agnieszka', 10), ('Mateusz', 14), ('Magdalena', 88), ('Karolina', 65), ('Jan', 82), ('Magdalena', 86), ('Katarzyna', 3), ('Piotr', 55), ('Anna', 44), ('Magdalena', 4), ('Adam', 25), ('Mateusz', 44), ('Dominika', 14), ('Łukasz', 34), ('Karolina', 18), ('Łukasz', 20), ('Tomasz', 31), ('Łukasz', 36), ('Mateusz', 1), ('Tomasz', 75), ('Mateusz', 82), ('Ewa', 18), ('Grzegorz', 9), ('Magdalena', 50), ('Katarzyna', 12), ('Kamil', 52), ('Adam', 15), ('Tomasz', 25), ('Mateusz', 46), ('Katarzyna', 47), ('Monika', 18), ('Tomasz', 87), ('Tomasz', 47), ('Natalia', 14), ('Magdalena', 9), ('Michał', 76), ('Katarzyna', 51), ('Natalia', 82), ('Natalia', 18), ('Marta', 11), ('Jakub', 18), ('Jan', 49), ('Agnieszka', 27), ('Magdalena', 30), ('Agnieszka', 23), ('Ewa', 71), ('Karolina', 68), ('Jan', 59), ('Mateusz', 82), ('Kamil', 68), ('Agnieszka', 73), ('Agnieszka', 9), ('Piotr', 9), ('Ewa', 6), ('Mateusz', 49), ('Marta', 44), ('Grzegorz', 75), ('Agnieszka', 68), ('Magdalena', 6), ('Dominika', 63), ('Jakub', 21), ('Monika', 24), ('Łukasz', 16), ('Jan', 18), ('Monika', 33), ('Tomasz', 1), ('Anna', 47), ('Natalia', 47), ('Monika', 69), ('Jan', 81), ('Magdalena', 55), ('Jakub', 30), ('Ewa', 44), ('Ewa', 68), ('Michał', 22), ('Dominika', 5), ('Łukasz', 75), ('Natalia', 9), ('Dominika', 72), ('Piotr', 73), ('Piotr', 44), ('Dominika', 1), ('Mateusz', 16), ('Dominika', 71), ('Marta', 52), ('Tomasz', 63), ('Grzegorz', 65), ('Tomasz', 88), ('Katarzyna', 62), ('Kamil', 58), ('Piotr', 14), ('Anna', 80), ('Dominika', 51), ('Jan', 61), ('Łukasz', 68), ('Karolina', 18), ('Mateusz', 73), ('Anna', 68), ('Tomasz', 62), ('Michał', 21), ('Jan', 81), ('Adam', 62), ('Jakub', 8), ('Katarzyna', 61), ('Monika', 22), ('Adam', 51), ('Kamil', 41), ('Dominika', 38), ('Adam', 73), ('Agnieszka', 62), ('Piotr', 28), ('Jan', 23), ('Kamil', 85), ('Anna', 3), ('Jakub', 13), ('Łukasz', 12), ('Łukasz', 60), ('Grzegorz', 4), ('Agnieszka', 12), ('Magdalena', 90), ('Piotr', 27), ('Adam', 27), ('Piotr', 72), ('Michał', 68), ('Kamil', 38), ('Michał', 54), ('Karolina', 52), ('Kamil', 68), ('Monika', 22), ('Ewa', 67), ('Łukasz', 10), ('Jan', 68), ('Magdalena', 81), ('Kamil', 48), ('Dominika', 47), ('Dominika', 79), ('Ewa', 87), ('Piotr', 72), ('Kamil', 89), ('Katarzyna', 23), ('Łukasz', 62), ('Monika', 90), ('Natalia', 75), ('Monika', 43), ('Ewa', 7), ('Magdalena', 56), ('Marta', 79), ('Monika', 6), ('Ewa', 57), ('Adam', 4), ('Natalia', 83), ('Magdalena', 1), ('Łukasz', 25), ('Jan', 44), ('Karolina', 7), ('Piotr', 2), ('Mateusz', 51), ('Mateusz', 1), ('Adam', 86), ('Mateusz', 55), ('Łukasz', 27), ('Karolina', 9), ('Marta', 59), ('Katarzyna', 17), ('Monika', 6), ('Magdalena', 14), ('Natalia', 87), ('Grzegorz', 20), ('Magdalena', 76), ('Grzegorz', 83), ('Kamil', 48), ('Tomasz', 88), ('Kamil', 88), ('Tomasz', 34), ('Mateusz', 37), ('Grzegorz', 8), ('Karolina', 4), ('Agnieszka', 72), ('Anna', 4), ('Ewa', 89), ('Katarzyna', 22), ('Piotr', 75), ('Katarzyna', 64), ('Marta', 59), ('Agnieszka', 31), ('Jakub', 80), ('Magdalena', 41), ('Łukasz', 35), ('Natalia', 21), ('Dominika', 55), ('Monika', 47), ('Monika', 36), ('Monika', 15), ('Katarzyna', 37), ('Magdalena', 58), ('Jan', 37), ('Mateusz', 83), ('Adam', 55), ('Anna', 58), ('Katarzyna', 82), ('Grzegorz', 10), ('Katarzyna', 48), ('Katarzyna', 32), ('Tomasz', 1), ('Karolina', 88), ('Katarzyna', 45), ('Monika', 74), ('Łukasz', 38), ('Jan', 46), ('Marta', 46), ('Grzegorz', 53), ('Katarzyna', 2), ('Monika', 84), ('Agnieszka', 67), ('Katarzyna', 18), ('Anna', 44), ('Jan', 22), ('Grzegorz', 32), ('Łukasz', 52), ('Dominika', 38), ('Michał', 3), ('Grzegorz', 14), ('Michał', 89), ('Anna', 71), ('Grzegorz', 38), ('Marta', 81), ('Karolina', 14), ('Grzegorz', 7), ('Łukasz', 85), ('Piotr', 69), ('Anna', 3), ('Katarzyna', 86), ('Adam', 47), ('Adam', 14), ('Magdalena', 5), ('Kamil', 23), ('Kamil', 33), ('Dominika', 9), ('Grzegorz', 14), ('Katarzyna', 33), ('Tomasz', 66), ('Monika', 12), ('Grzegorz', 14), ('Kamil', 7), ('Łukasz', 57), ('Ewa', 12), ('Karolina', 80), ('Jan', 8), ('Kamil', 32), ('Jakub', 5), ('Łukasz', 27), ('Karolina', 74), ('Marta', 24), ('Michał', 3), ('Mateusz', 46), ('Ewa', 44), ('Łukasz', 84), ('Łukasz', 15), ('Jan', 85), ('Łukasz', 87), ('Jan', 66), ('Karolina', 82), ('Magdalena', 56), ('Natalia', 80), ('Magdalena', 42), ('Karolina', 36), ('Grzegorz', 50), ('Katarzyna', 61), ('Adam', 69), ('Grzegorz', 38), ('Natalia', 16), ('Agnieszka', 3), ('Mateusz', 47), ('Anna', 53), ('Marta', 68), ('Agnieszka', 62), ('Michał', 27), ('Tomasz', 56), ('Adam', 84), ('Dominika', 26), ('Marta', 47), ('Ewa', 8), ('Marta', 19), ('Magdalena', 43), ('Jakub', 8), ('Karolina', 27), ('Kamil', 19), ('Tomasz', 55), ('Jakub', 19), ('Tomasz', 62), ('Dominika', 51), ('Karolina', 12), ('Michał', 77), ('Natalia', 89), ('Katarzyna', 2), ('Michał', 82), ('Dominika', 13), ('Marta', 41), ('Monika', 31), ('Mateusz', 46), ('Jan', 79), ('Jan', 88), ('Jan', 55), ('Magdalena', 84), ('Adam', 59), ('Tomasz', 68), ('Karolina', 71), ('Tomasz', 49), ('Karolina', 86), ('Katarzyna', 6), ('Kamil', 71), ('Jan', 36), ('Kamil', 27), ('Karolina', 6), ('Adam', 13), ('Karolina', 13), ('Ewa', 57), ('Ewa', 32), ('Ewa', 46), ('Dominika', 58), ('Jan', 39), ('Mateusz', 25), ('Anna', 33), ('Grzegorz', 16), ('Kamil', 2), ('Karolina', 3), ('Mateusz', 27), ('Monika', 65), ('Karolina', 9), ('Agnieszka', 18), ('Grzegorz', 6), ('Monika', 53), ('Anna', 16), ('Ewa', 16), ('Magdalena', 77), ('Monika', 13), ('Dominika', 33), ('Kamil', 14), ('Adam', 18), ('Jan', 41), ('Magdalena', 80), ('Agnieszka', 55), ('Magdalena', 56), ('Grzegorz', 40), ('Magdalena', 33), ('Jan', 50), ('Grzegorz', 26), ('Anna', 56), ('Marta', 58), ('Agnieszka', 42), ('Anna', 22), ('Grzegorz', 59), ('Monika', 83), ('Agnieszka', 83), ('Jakub', 84), ('Jakub', 79), ('Katarzyna', 33), ('Piotr', 54), ('Magdalena', 18), ('Katarzyna', 85), ('Michał', 65), ('Marta', 52), ('Katarzyna', 68), ('Mateusz', 19), ('Magdalena', 62), ('Dominika', 40), ('Agnieszka', 11), ('Dominika', 75), ('Jakub', 48), ('Jakub', 37), ('Mateusz', 17), ('Piotr', 70), ('Kamil', 35), ('Mateusz', 48), ('Marta', 89), ('Kamil', 54), ('Ewa', 81), ('Marta', 35), ('Kamil', 1), ('Jan', 9), ('Anna', 7), ('Adam', 2), ('Kamil', 73), ('Ewa', 31), ('Natalia', 7), ('Tomasz', 76), ('Dominika', 44), ('Dominika', 8), ('Grzegorz', 41), ('Tomasz', 43), ('Marta', 63), ('Kamil', 26), ('Karolina', 26), ('Agnieszka', 48), ('Piotr', 52), ('Mateusz', 72), ('Adam', 26), ('Jakub', 22), ('Monika', 41), ('Ewa', 45), ('Agnieszka', 67), ('Grzegorz', 12), ('Łukasz', 41), ('Kamil', 19), ('Tomasz', 42), ('Kamil', 34), ('Tomasz', 49), ('Piotr', 26), ('Łukasz', 73), ('Adam', 16), ('Mateusz', 22), ('Anna', 2), ('Katarzyna', 51), ('Łukasz', 2), ('Mateusz', 58), ('Magdalena', 21), ('Mateusz', 33), ('Ewa', 33), ('Mateusz', 84), ('Marta', 39), ('Natalia', 78), ('Agnieszka', 76), ('Jakub', 58), ('Natalia', 61), ('Marta', 52), ('Natalia', 31), ('Marta', 79), ('Jan', 64), ('Jan', 63), ('Piotr', 81), ('Łukasz', 71), ('Karolina', 26), ('Jakub', 74), ('Agnieszka', 79), ('Piotr', 46), ('Karolina', 25), ('Tomasz', 21), ('Łukasz', 25), ('Marta', 50), ('Marta', 26), ('Tomasz', 1), ('Jakub', 80), ('Kamil', 20), ('Marta', 62), ('Jakub', 45), ('Jan', 35), ('Agnieszka', 54), ('Katarzyna', 43), ('Monika', 4), ('Tomasz', 65), ('Monika', 2), ('Ewa', 44), ('Anna', 33), ('Łukasz', 82), ('Monika', 44), ('Adam', 89), ('Karolina', 5), ('Grzegorz', 64), ('Agnieszka', 32), ('Katarzyna', 15), ('Dominika', 7), ('Magdalena', 47), ('Kamil', 76), ('Karolina', 18), ('Anna', 58), ('Jakub', 71), ('Agnieszka', 44), ('Mateusz', 49), ('Katarzyna', 15), ('Tomasz', 18), ('Dominika', 8), ('Ewa', 74), ('Ewa', 57), ('Piotr', 53), ('Natalia', 87), ('Ewa', 3), ('Michał', 4), ('Marta', 56), ('Piotr', 58), ('Łukasz', 15), ('Tomasz', 30), ('Dominika', 60), ('Jan', 65), ('Marta', 18), ('Marta', 88), ('Katarzyna', 7), ('Katarzyna', 79), ('Monika', 29), ('Michał', 21), ('Ewa', 47), ('Jakub', 64), ('Magdalena', 42), ('Jakub', 15), ('Natalia', 41), ('Grzegorz', 19), ('Anna', 25), ('Tomasz', 1), ('Mateusz', 71), ('Jan', 13), ('Agnieszka', 2), ('Piotr', 20), ('Tomasz', 45), ('Grzegorz', 81), ('Łukasz', 82), ('Monika', 7), ('Agnieszka', 12), ('Piotr', 18), ('Grzegorz', 75), ('Mateusz', 68), ('Agnieszka', 69), ('Kamil', 21), ('Dominika', 53), ('Katarzyna', 19), ('Ewa', 81), ('Mateusz', 19), ('Anna', 78), ('Michał', 2), ('Katarzyna', 52), ('Jan', 36), ('Michał', 78), ('Piotr', 82), ('Agnieszka', 52), ('Agnieszka', 13), ('Anna', 35), ('Kamil', 76), ('Michał', 23), ('Marta', 2), ('Anna', 7), ('Grzegorz', 58), ('Kamil', 71), ('Tomasz', 7), ('Dominika', 62), ('Magdalena', 52), ('Tomasz', 11), ('Katarzyna', 30), ('Kamil', 11), ('Monika', 86), ('Dominika', 11), ('Grzegorz', 18), ('Michał', 38), ('Grzegorz', 59), ('Tomasz', 67), ('Monika', 64), ('Katarzyna', 49), ('Kamil', 39), ('Magdalena', 90), ('Piotr', 20), ('Magdalena', 65), ('Karolina', 42), ('Ewa', 62), ('Łukasz', 76), ('Piotr', 11), ('Jakub', 67), ('Magdalena', 19), ('Anna', 61), ('Ewa', 6), ('Jan', 66), ('Monika', 86), ('Mateusz', 68), ('Monika', 37), ('Kamil', 3), ('Piotr', 4), ('Agnieszka', 38), ('Monika', 3), ('Piotr', 32), ('Karolina', 36), ('Tomasz', 37), ('Mateusz', 63), ('Dominika', 2), ('Tomasz', 31), ('Anna', 53), ('Natalia', 82), ('Piotr', 6), ('Tomasz', 87), ('Mateusz', 36), ('Agnieszka', 36), ('Łukasz', 43), ('Łukasz', 65), ('Tomasz', 20), ('Michał', 21), ('Piotr', 73), ('Ewa', 88), ('Karolina', 52), ('Katarzyna', 63), ('Marta', 11), ('Grzegorz', 77), ('Łukasz', 73), ('Marta', 90), ('Magdalena', 77), ('Grzegorz', 53), ('Łukasz', 23), ('Karolina', 14), ('Dominika', 16), ('Karolina', 9), ('Agnieszka', 1), ('Tomasz', 82), ('Agnieszka', 80), ('Dominika', 71), ('Monika', 42), ('Monika', 45), ('Magdalena', 43), ('Grzegorz', 84), ('Monika', 43), ('Piotr', 64), ('Ewa', 13), ('Tomasz', 67), ('Jakub', 14), ('Jakub', 51), ('Grzegorz', 61), ('Marta', 90), ('Jakub', 41), ('Jan', 24), ('Jan', 36), ('Jan', 8), ('Jan', 38), ('Karolina', 72), ('Grzegorz', 33), ('Ewa', 30), ('Grzegorz', 50), ('Kamil', 89), ('Katarzyna', 85), ('Karolina', 51), ('Dominika', 21), ('Ewa', 52), ('Grzegorz', 9), ('Mateusz', 19), ('Adam', 29), ('Mateusz', 29), ('Agnieszka', 38), ('Monika', 45), ('Michał', 25), ('Jakub', 88), ('Karolina', 57), ('Jan', 23), ('Marta', 34), ('Ewa', 66), ('Piotr', 32), ('Dominika', 21), ('Piotr', 25), ('Grzegorz', 2), ('Tomasz', 61), ('Marta', 39), ('Piotr', 88), ('Monika', 35), ('Jan', 77), ('Piotr', 55), ('Grzegorz', 66), ('Piotr', 81), ('Karolina', 55), ('Jan', 67), ('Mateusz', 42), ('Ewa', 71), ('Magdalena', 18), ('Piotr', 37), ('Ewa', 28), ('Piotr', 73), ('Karolina', 41), ('Dominika', 74), ('Jakub', 69), ('Monika', 53), ('Monika', 38), ('Łukasz', 28), ('Katarzyna', 31), ('Katarzyna', 9), ('Adam', 83), ('Ewa', 83), ('Piotr', 9), ('Łukasz', 72), ('Marta', 5), ('Mateusz', 67), ('Magdalena', 78), ('Piotr', 86), ('Jan', 73), ('Katarzyna', 39), ('Michał', 73), ('Katarzyna', 20), ('Katarzyna', 60), ('Piotr', 28), ('Karolina', 49), ('Michał', 76), ('Jan', 89), ('Łukasz', 52), ('Kamil', 88), ('Magdalena', 53), ('Natalia', 57), ('Monika', 76), ('Kamil', 52), ('Marta', 19), ('Jakub', 80), ('Piotr', 50), ('Natalia', 6), ('Katarzyna', 51), ('Jakub', 26), ('Ewa', 58), ('Dominika', 51), ('Kamil', 47), ('Natalia', 68), ('Piotr', 83), ('Karolina', 20), ('Jan', 10), ('Grzegorz', 52), ('Natalia', 62), ('Monika', 20), ('Katarzyna', 82), ('Michał', 53), ('Marta', 54), ('Mateusz', 65), ('Michał', 65), ('Karolina', 71), ('Monika', 58), ('Łukasz', 68), ('Łukasz', 86), ('Jakub', 81), ('Agnieszka', 86), ('Monika', 27), ('Ewa', 17), ('Jan', 19), ('Kamil', 53), ('Dominika', 68), ('Michał', 84), ('Grzegorz', 4), ('Adam', 67), ('Grzegorz', 41), ('Jan', 1), ('Monika', 18), ('Magdalena', 45), ('Piotr', 81), ('Piotr', 7), ('Jan', 26), ('Grzegorz', 89), ('Michał', 87), ('Karolina', 77), ('Jakub', 38), ('Magdalena', 67), ('Mateusz', 11), ('Mateusz', 24), ('Marta', 63), ('Magdalena', 32), ('Jakub', 11), ('Jan', 64), ('Michał', 2), ('Piotr', 73), ('Magdalena', 88), ('Karolina', 51), ('Monika', 21), ('Marta', 1), ('Ewa', 3), ('Ewa', 10), ('Monika', 45), ('Grzegorz', 72), ('Łukasz', 1), ('Jakub', 5), ('Agnieszka', 79), ('Natalia', 8), ('Dominika', 70), ('Mateusz', 66), ('Jan', 19), ('Jakub', 87), ('Adam', 11), ('Adam', 17), ('Ewa', 17), ('Tomasz', 3), ('Dominika', 55), ('Anna', 4), ('Anna', 27), ('Piotr', 1), ('Ewa', 62), ('Karolina', 83), ('Piotr', 53), ('Tomasz', 8), ('Natalia', 53), ('Grzegorz', 36), ('Ewa', 60), ('Karolina', 54), ('Adam', 11), ('Jan', 15), ('Łukasz', 63), ('Piotr', 3), ('Magdalena', 16), ('Anna', 41), ('Anna', 36), ('Magdalena', 84), ('Tomasz', 5), ('Anna', 20), ('Adam', 24), ('Anna', 89), ('Ewa', 26), ('Kamil', 51), ('Magdalena', 84), ('Michał', 11), ('Magdalena', 42), ('Ewa', 60), ('Anna', 10), ('Katarzyna', 17), ('Monika', 32), ('Jan', 6), ('Karolina', 24), ('Magdalena', 50), ('Piotr', 35), ('Adam', 48), ('Ewa', 50), ('Grzegorz', 30), ('Karolina', 9), ('Agnieszka', 25), ('Mateusz', 46), ('Katarzyna', 75), ('Katarzyna', 80), ('Kamil', 35), ('Dominika', 67), ('Jan', 5), ('Karolina', 43), ('Jakub', 87), ('Ewa', 83), ('Marta', 73), ('Marta', 33), ('Jan', 86), ('Piotr', 58), ('Grzegorz', 38), ('Magdalena', 68), ('Mateusz', 22), ('Agnieszka', 17), ('Anna', 68), ('Piotr', 68), ('Adam', 62), ('Marta', 36), ('Jan', 44), ('Piotr', 65), ('Jakub', 67), ('Agnieszka', 44), ('Anna', 24), ('Michał', 20), ('Tomasz', 27), ('Kamil', 52), ('Natalia', 12), ('Katarzyna', 46), ('Jan', 77), ('Dominika', 74), ('Dominika', 55), ('Jan', 38), ('Tomasz', 26), ('Karolina', 2), ('Katarzyna', 13), ('Jakub', 7), ('Marta', 74), ('Tomasz', 43), ('Karolina', 2), ('Katarzyna', 8), ('Dominika', 77), ('Katarzyna', 26), ('Agnieszka', 64), ('Dominika', 81), ('Mateusz', 37), ('Ewa', 45), ('Grzegorz', 41), ('Ewa', 46), ('Łukasz', 30), ('Tomasz', 75), ('Dominika', 9), ('Grzegorz', 46), ('Piotr', 36), ('Jan', 58), ('Piotr', 55), ('Marta', 79), ('Kamil', 2), ('Magdalena', 2), ('Natalia', 3), ('Kamil', 74), ('Anna', 9), ('Agnieszka', 62), ('Natalia', 25), ('Kamil', 69), ('Katarzyna', 53), ('Agnieszka', 50), ('Grzegorz', 28), ('Adam', 53), ('Anna', 47), ('Monika', 36), ('Magdalena', 89), ('Kamil', 5), ('Adam', 15), ('Monika', 90), ('Karolina', 47), ('Katarzyna', 65), ('Agnieszka', 87), ('Michał', 88), ('Monika', 64), ('Ewa', 89), ('Natalia', 37), ('Adam', 1), ('Michał', 57), ('Piotr', 21), ('Piotr', 89), ('Michał', 41), ('Tomasz', 70), ('Jakub', 66), ('Grzegorz', 52), ('Ewa', 51), ('Jan', 48), ('Grzegorz', 18), ('Grzegorz', 46), ('Anna', 4), ('Katarzyna', 33), ('Karolina', 58), ('Michał', 11), ('Magdalena', 22), ('Monika', 31), ('Kamil', 48), ('Monika', 18), ('Agnieszka', 66), ('Monika', 58), ('Jan', 26), ('Katarzyna', 2), ('Monika', 30), ('Jan', 60), ('Łukasz', 84), ('Agnieszka', 28), ('Monika', 70), ('Jakub', 58), ('Grzegorz', 68), ('Łukasz', 69), ('Natalia', 25), ('Mateusz', 45), ('Anna', 25), ('Jakub', 89), ('Marta', 29), ('Anna', 18), ('Kamil', 65), ('Marta', 56), ('Dominika', 40), ('Mateusz', 57), ('Katarzyna', 87), ('Kamil', 1), ('Natalia', 25), ('Anna', 60), ('Łukasz', 24), ('Anna', 34), ('Agnieszka', 60), ('Natalia', 34), ('Katarzyna', 72), ('Tomasz', 89), ('Marta', 80), ('Łukasz', 42), ('Jan', 82), ('Agnieszka', 33), ('Agnieszka', 38), ('Agnieszka', 20), ('Natalia', 37), ('Marta', 1), ('Łukasz', 15), ('Kamil', 64), ('Dominika', 71), ('Jan', 27), ('Tomasz', 21), ('Agnieszka', 84), ('Magdalena', 50), ('Tomasz', 62), ('Mateusz', 19), ('Monika', 61), ('Jakub', 14), ('Michał', 23), ('Kamil', 53), ('Jan', 42), ('Dominika', 76), ('Karolina', 7), ('Piotr', 15), ('Karolina', 57), ('Marta', 9), ('Tomasz', 46), ('Adam', 6), ('Kamil', 82), ('Katarzyna', 63), ('Anna', 8), ('Mateusz', 61), ('Mateusz', 37), ('Tomasz', 61), ('Piotr', 36), ('Piotr', 66), ('Natalia', 26), ('Jan', 49), ('Mateusz', 32), ('Adam', 47), ('Piotr', 2), ('Kamil', 42), ('Marta', 45), ('Jakub', 24), ('Natalia', 72), ('Piotr', 6), ('Monika', 3), ('Piotr', 85), ('Dominika', 51), ('Marta', 42), ('Mateusz', 26), ('Jakub', 67), ('Jan', 31), ('Natalia', 73), ('Jan', 5), ('Karolina', 5), ('Jakub', 72), ('Anna', 10), ('Marta', 29), ('Anna', 16), ('Ewa', 54), ('Natalia', 49), ('Jan', 76), ('Jakub', 42), ('Tomasz', 70), ('Ewa', 74), ('Jan', 82), ('Tomasz', 65), ('Marta', 88), ('Ewa', 87), ('Adam', 53), ('Kamil', 42), ('Adam', 50), ('Jan', 71), ('Łukasz', 23), ('Karolina', 66), ('Anna', 25), ('Agnieszka', 2), ('Adam', 45), ('Łukasz', 37), ('Anna', 63), ('Łukasz', 38), ('Katarzyna', 34), ('Anna', 53), ('Agnieszka', 27), ('Monika', 15), ('Natalia', 64), ('Jan', 77), ('Magdalena', 9), ('Mateusz', 70), ('Dominika', 81), ('Piotr', 20), ('Michał', 75), ('Dominika', 64), ('Agnieszka', 20), ('Mateusz', 14), ('Piotr', 55), ('Dominika', 33), ('Jakub', 5), ('Jakub', 28), ('Piotr', 33), ('Mateusz', 35), ('Piotr', 42), ('Monika', 68), ('Magdalena', 41), ('Karolina', 42), ('Jakub', 23), ('Piotr', 51), ('Grzegorz', 15), ('Kamil', 21), ('Grzegorz', 33), ('Piotr', 45), ('Karolina', 33), ('Adam', 50), ('Marta', 81), ('Dominika', 72), ('Kamil', 18), ('Grzegorz', 2), ('Łukasz', 35), ('Michał', 8), ('Tomasz', 30), ('Agnieszka', 43), ('Adam', 90), ('Dominika', 70), ('Natalia', 88), ('Agnieszka', 82), ('Adam', 49), ('Łukasz', 10), ('Tomasz', 18), ('Jan', 30), ('Agnieszka', 8), ('Adam', 54), ('Jan', 11), ('Mateusz', 1), ('Mateusz', 16), ('Natalia', 80), ('Agnieszka', 44), ('Łukasz', 84), ('Adam', 1), ('Kamil', 15), ('Anna', 23), ('Łukasz', 22), ('Dominika', 77), ('Jan', 3), ('Piotr', 69), ('Michał', 86), ('Natalia', 74), ('Piotr', 68), ('Jakub', 57), ('Marta', 23), ('Kamil', 62), ('Agnieszka', 81), ('Ewa', 7), ('Adam', 34), ('Jakub', 42), ('Łukasz', 80), ('Natalia', 79), ('Piotr', 10), ('Mateusz', 38), ('Monika', 15), ('Katarzyna', 57), ('Kamil', 41), ('Jan', 85), ('Magdalena', 63), ('Anna', 59), ('Adam', 80), ('Jakub', 70), ('Grzegorz', 2), ('Ewa', 26), ('Karolina', 13), ('Jakub', 58), ('Magdalena', 40), ('Monika', 57), ('Anna', 89), ('Anna', 55), ('Dominika', 39), ('Dominika', 73), ('Dominika', 11), ('Anna', 40), ('Tomasz', 23), ('Agnieszka', 28), ('Jan', 51), ('Grzegorz', 42), ('Karolina', 63), ('Łukasz', 60), ('Marta', 47), ('Ewa', 3), ('Łukasz', 34), ('Michał', 46), ('Ewa', 65), ('Monika', 26), ('Łukasz', 74), ('Monika', 16), ('Jakub', 82), ('Jakub', 13), ('Grzegorz', 35), ('Michał', 18), ('Natalia', 35), ('Adam', 89), ('Grzegorz', 52), ('Marta', 75), ('Adam', 9), ('Dominika', 81), ('Marta', 80), ('Dominika', 57), ('Michał', 76), ('Kamil', 38), ('Jakub', 76), ('Jakub', 51), ('Kamil', 3), ('Karolina', 7), ('Tomasz', 75), ('Jakub', 12), ('Grzegorz', 66), ('Monika', 28), ('Łukasz', 82), ('Jakub', 29), ('Dominika', 56), ('Natalia', 59), ('Marta', 66), ('Kamil', 48), ('Monika', 74), ('Anna', 56), ('Natalia', 17), ('Katarzyna', 89), ('Natalia', 26), ('Jan', 46), ('Karolina', 47), ('Michał', 1), ('Agnieszka', 61), ('Natalia', 24), ('Adam', 78), ('Katarzyna', 10), ('Katarzyna', 36), ('Katarzyna', 70), ('Mateusz', 77), ('Ewa', 80), ('Ewa', 9), ('Adam', 56), ('Piotr', 12), ('Michał', 84), ('Mateusz', 75), ('Dominika', 50), ('Agnieszka', 67), ('Monika', 70), ('Katarzyna', 18), ('Anna', 63), ('Piotr', 5), ('Agnieszka', 80), ('Natalia', 36), ('Jakub', 74), ('Karolina', 83), ('Katarzyna', 47), ('Tomasz', 59), ('Tomasz', 6), ('Jan', 89), ('Michał', 12), ('Michał', 82), ('Marta', 74), ('Natalia', 88), ('Karolina', 48), ('Anna', 72), ('Kamil', 28), ('Kamil', 8), ('Magdalena', 57), ('Kamil', 45), ('Dominika', 50), ('Agnieszka', 23), ('Anna', 67), ('Tomasz', 77), ('Adam', 39), ('Agnieszka', 37), ('Magdalena', 50), ('Tomasz', 36), ('Ewa', 15), ('Karolina', 24), ('Anna', 45), ('Łukasz', 31), ('Ewa', 65), ('Natalia', 4), ('Kamil', 55), ('Magdalena', 22), ('Grzegorz', 32), ('Grzegorz', 62), ('Anna', 83), ('Anna', 87), ('Adam', 52), ('Tomasz', 60), ('Grzegorz', 69), ('Marta', 79), ('Magdalena', 76), ('Dominika', 70), ('Ewa', 39), ('Anna', 9), ('Anna', 53), ('Mateusz', 22), ('Adam', 8), ('Jan', 18), ('Mateusz', 82), ('Michał', 81), ('Adam', 84), ('Adam', 73), ('Anna', 51), ('Tomasz', 37), ('Karolina', 37), ('Magdalena', 15), ('Natalia', 75), ('Piotr', 75), ('Magdalena', 70), ('Ewa', 66), ('Ewa', 89), ('Natalia', 29), ('Mateusz', 80), ('Agnieszka', 87), ('Jan', 27), ('Michał', 71), ('Katarzyna', 81), ('Jan', 24), ('Marta', 48), ('Adam', 24), ('Magdalena', 46), ('Agnieszka', 47), ('Jan', 78), ('Adam', 68), ('Tomasz', 15), ('Dominika', 89), ('Grzegorz', 76), ('Magdalena', 84), ('Jakub', 73), ('Kamil', 12), ('Marta', 9), ('Piotr', 52), ('Piotr', 15), ('Mateusz', 51), ('Agnieszka', 71), ('Katarzyna', 22), ('Natalia', 65), ('Agnieszka', 8), ('Jakub', 41), ('Jan', 49), ('Tomasz', 57), ('Karolina', 44), ('Grzegorz', 46), ('Katarzyna', 57), ('Piotr', 31), ('Tomasz', 74), ('Karolina', 35), ('Katarzyna', 30), ('Agnieszka', 38), ('Monika', 58), ('Łukasz', 88), ('Dominika', 74), ('Łukasz', 39), ('Agnieszka', 66), ('Monika', 12), ('Ewa', 32), ('Jakub', 34), ('Natalia', 26), ('Tomasz', 22), ('Mateusz', 15), ('Natalia', 16), ('Jakub', 47), ('Ewa', 11), ('Katarzyna', 31), ('Adam', 11), ('Ewa', 78), ('Piotr', 82), ('Dominika', 84), ('Monika', 74), ('Anna', 88), ('Kamil', 3), ('Anna', 30), ('Marta', 75), ('Jakub', 9), ('Jan', 90), ('Jakub', 45), ('Kamil', 20), ('Jan', 57), ('Monika', 19), ('Katarzyna', 25), ('Piotr', 37), ('Magdalena', 89), ('Jakub', 19), ('Agnieszka', 19), ('Ewa', 81), ('Katarzyna', 79), ('Dominika', 1), ('Karolina', 10), ('Tomasz', 87), ('Katarzyna', 39), ('Jan', 54), ('Grzegorz', 52), ('Jan', 42), ('Karolina', 46), ('Jan', 42), ('Anna', 38), ('Karolina', 37), ('Magdalena', 66), ('Kamil', 51), ('Marta', 69), ('Kamil', 2), ('Natalia', 21), ('Magdalena', 1), ('Karolina', 8), ('Kamil', 49), ('Magdalena', 86), ('Adam', 82), ('Ewa', 78), ('Jan', 61), ('Jan', 30), ('Jakub', 2), ('Anna', 87), ('Grzegorz', 62), ('Grzegorz', 72), ('Katarzyna', 3), ('Tomasz', 81), ('Anna', 25), ('Ewa', 55), ('Karolina', 86), ('Natalia', 30), ('Jan', 37), ('Piotr', 42), ('Michał', 58), ('Kamil', 64), ('Magdalena', 16), ('Piotr', 21), ('Adam', 21), ('Mateusz', 1), ('Marta', 12), ('Agnieszka', 82), ('Agnieszka', 29), ('Marta', 62), ('Jakub', 44), ('Ewa', 48), ('Michał', 56), ('Piotr', 77), ('Magdalena', 60), ('Piotr', 8), ('Adam', 49), ('Michał', 52), ('Karolina', 54), ('Piotr', 52), ('Karolina', 73), ('Ewa', 90), ('Monika', 3), ('Monika', 67), ('Piotr', 21), ('Kamil', 24), ('Dominika', 34), ('Ewa', 83), ('Michał', 88), ('Michał', 74), ('Adam', 40), ('Katarzyna', 66), ('Magdalena', 27), ('Łukasz', 33), ('Katarzyna', 45), ('Łukasz', 12), ('Ewa', 27), ('Mateusz', 35), ('Agnieszka', 13), ('Mateusz', 73), ('Łukasz', 12), ('Piotr', 58), ('Ewa', 15), ('Kamil', 33), ('Jakub', 56), ('Mateusz', 63), ('Kamil', 84), ('Katarzyna', 46), ('Monika', 87), ('Grzegorz', 28), ('Ewa', 54), ('Adam', 15), ('Michał', 87), ('Monika', 11), ('Agnieszka', 50), ('Michał', 90), ('Magdalena', 1), ('Dominika', 37), ('Łukasz', 9), ('Dominika', 64), ('Natalia', 42), ('Karolina', 31), ('Anna', 40), ('Natalia', 20), ('Katarzyna', 5), ('Adam', 67), ('Agnieszka', 77), ('Dominika', 68), ('Piotr', 78), ('Łukasz', 27), ('Piotr', 55), ('Mateusz', 53), ('Karolina', 32), ('Dominika', 90), ('Mateusz', 42), ('Jan', 63), ('Łukasz', 8), ('Agnieszka', 27), ('Anna', 6), ('Natalia', 12), ('Marta', 7), ('Natalia', 24), ('Marta', 62), ('Marta', 4), ('Adam', 33), ('Natalia', 52), ('Magdalena', 20), ('Mateusz', 47), ('Michał', 73), ('Kamil', 62), ('Ewa', 63), ('Anna', 19), ('Kamil', 54), ('Dominika', 81), ('Jakub', 8), ('Jan', 33), ('Magdalena', 3), ('Michał', 3), ('Mateusz', 37), ('Magdalena', 43), ('Jan', 33), ('Kamil', 49), ('Monika', 31), ('Jan', 14), ('Adam', 85), ('Monika', 37), ('Tomasz', 86), ('Michał', 59), ('Marta', 87), ('Ewa', 35), ('Ewa', 50), ('Magdalena', 11), ('Katarzyna', 62), ('Michał', 22), ('Monika', 18), ('Dominika', 15), ('Michał', 33), ('Adam', 90), ('Katarzyna', 84), ('Jakub', 18), ('Kamil', 25), ('Marta', 15), ('Łukasz', 10), ('Tomasz', 87), ('Jakub', 68), ('Grzegorz', 50), ('Natalia', 38), ('Mateusz', 4), ('Adam', 84), ('Adam', 10), ('Kamil', 74), ('Anna', 63), ('Marta', 3), ('Monika', 29), ('Agnieszka', 5), ('Grzegorz', 72), ('Ewa', 9), ('Jan', 26), ('Natalia', 66), ('Magdalena', 18), ('Mateusz', 33), ('Grzegorz', 41), ('Łukasz', 61), ('Łukasz', 61), ('Dominika', 8), ('Magdalena', 47), ('Jakub', 35), ('Anna', 14), ('Magdalena', 47), ('Piotr', 87), ('Michał', 18), ('Karolina', 12), ('Tomasz', 8), ('Anna', 15), ('Dominika', 56), ('Grzegorz', 3), ('Kamil', 44), ('Jan', 33), ('Katarzyna', 62), ('Michał', 86), ('Grzegorz', 50), ('Katarzyna', 4), ('Mateusz', 12), ('Monika', 43), ('Jakub', 32), ('Tomasz', 20), ('Łukasz', 25), ('Jakub', 1), ('Adam', 29), ('Dominika', 20), ('Marta', 69), ('Grzegorz', 39), ('Jan', 89), ('Ewa', 15), ('Michał', 81), ('Marta', 7), ('Jan', 38), ('Tomasz', 86), ('Jakub', 78), ('Magdalena', 14), ('Piotr', 83), ('Michał', 19), ('Natalia', 42), ('Natalia', 22), ('Kamil', 47), ('Grzegorz', 78), ('Karolina', 41), ('Mateusz', 52), ('Mateusz', 15), ('Kamil', 12), ('Karolina', 63), ('Łukasz', 49), ('Katarzyna', 21), ('Karolina', 22), ('Magdalena', 12), ('Łukasz', 29), ('Łukasz', 37), ('Katarzyna', 72), ('Agnieszka', 87), ('Dominika', 3), ('Ewa', 10), ('Jakub', 76), ('Mateusz', 24), ('Michał', 18), ('Ewa', 1), ('Ewa', 57), ('Piotr', 41), ('Ewa', 6), ('Grzegorz', 55), ('Jakub', 55), ('Karolina', 5), ('Agnieszka', 13), ('Monika', 36), ('Michał', 56), ('Tomasz', 9), ('Karolina', 4), ('Łukasz', 44), ('Tomasz', 81), ('Anna', 78), ('Katarzyna', 45), ('Mateusz', 26), ('Dominika', 16), ('Marta', 9), ('Łukasz', 59), ('Magdalena', 45), ('Łukasz', 40), ('Monika', 90), ('Agnieszka', 52), ('Dominika', 27), ('Karolina', 77), ('Ewa', 83), ('Piotr', 67), ('Mateusz', 66), ('Mateusz', 15), ('Dominika', 13), ('Ewa', 41), ('Agnieszka', 74), ('Grzegorz', 62), ('Ewa', 77), ('Magdalena', 51), ('Natalia', 15), ('Natalia', 16), ('Marta', 1), ('Magdalena', 27), ('Jan', 59), ('Adam', 29), ('Agnieszka', 53), ('Kamil', 23), ('Piotr', 3), ('Michał', 20), ('Dominika', 73), ('Monika', 15), ('Michał', 26), ('Piotr', 70), ('Magdalena', 4), ('Tomasz', 79), ('Agnieszka', 21), ('Ewa', 68), ('Magdalena', 70), ('Anna', 4), ('Anna', 34), ('Mateusz', 17), ('Adam', 17), ('Tomasz', 17), ('Jan', 31), ('Grzegorz', 51), ('Łukasz', 30), ('Michał', 57), ('Michał', 11), ('Magdalena', 36), ('Jakub', 53), ('Michał', 8), ('Grzegorz', 54), ('Jakub', 73), ('Jakub', 15), ('Jakub', 62), ('Piotr', 32), ('Mateusz', 15), ('Natalia', 1), ('Łukasz', 42), ('Jan', 52), ('Marta', 67), ('Mateusz', 78), ('Łukasz', 69), ('Dominika', 22), ('Natalia', 67), ('Jan', 33), ('Marta', 11), ('Michał', 51), ('Karolina', 19), ('Jakub', 71), ('Natalia', 53), ('Karolina', 42), ('Ewa', 65), ('Natalia', 11), ('Dominika', 55), ('Agnieszka', 16), ('Karolina', 31), ('Karolina', 2), ('Magdalena', 51), ('Agnieszka', 88), ('Adam', 27), ('Michał', 17), ('Jan', 73), ('Piotr', 28), ('Monika', 10), ('Katarzyna', 50), ('Agnieszka', 58), ('Grzegorz', 84), ('Łukasz', 5), ('Kamil', 80), ('Monika', 49), ('Magdalena', 6), ('Dominika', 13), ('Michał', 26), ('Ewa', 56), ('Jan', 63), ('Tomasz', 39), ('Łukasz', 68), ('Agnieszka', 53), ('Jan', 66), ('Anna', 57), ('Dominika', 84), ('Marta', 67), ('Michał', 44), ('Anna', 42), ('Piotr', 17), ('Tomasz', 64), ('Dominika', 27), ('Anna', 16), ('Adam', 71), ('Jan', 61), ('Mateusz', 75), ('Grzegorz', 8), ('Grzegorz', 78), ('Mateusz', 74), ('Kamil', 46), ('Adam', 67), ('Natalia', 4), ('Katarzyna', 2), ('Agnieszka', 84), ('Ewa', 77), ('Piotr', 15), ('Natalia', 27), ('Kamil', 82), ('Kamil', 78), ('Anna', 18), ('Michał', 2), ('Dominika', 69), ('Łukasz', 55), ('Anna', 89), ('Karolina', 22), ('Anna', 25), ('Adam', 40), ('Jakub', 50), ('Michał', 44), ('Mateusz', 18), ('Łukasz', 21), ('Łukasz', 41), ('Ewa', 60), ('Jakub', 34), ('Mateusz', 53), ('Kamil', 42), ('Magdalena', 8), ('Monika', 20), ('Adam', 8), ('Katarzyna', 66), ('Adam', 16), ('Adam', 22), ('Adam', 75), ('Adam', 29), ('Tomasz', 63), ('Jan', 27), ('Dominika', 81), ('Ewa', 1), ('Karolina', 20), ('Dominika', 72), ('Adam', 12), ('Jakub', 23), ('Mateusz', 16), ('Jakub', 70), ('Monika', 42), ('Mateusz', 43), ('Mateusz', 55), ('Jan', 4), ('Natalia', 89), ('Adam', 69), ('Łukasz', 21), ('Dominika', 38), ('Jakub', 44), ('Adam', 17), ('Tomasz', 71), ('Magdalena', 27), ('Michał', 76), ('Karolina', 28), ('Agnieszka', 22), ('Karolina', 86), ('Kamil', 82), ('Grzegorz', 60), ('Dominika', 26), ('Magdalena', 48), ('Anna', 59), ('Łukasz', 83), ('Dominika', 51), ('Dominika', 29), ('Agnieszka', 17), ('Mateusz', 36), ('Jakub', 41), ('Anna', 68), ('Kamil', 73), ('Ewa', 47), ('Adam', 58), ('Ewa', 33), ('Grzegorz', 52), ('Jakub', 54), ('Dominika', 42), ('Karolina', 90), ('Kamil', 33), ('Tomasz', 10), ('Adam', 73), ('Karolina', 54), ('Monika', 72), ('Łukasz', 80), ('Anna', 84), ('Dominika', 89), ('Michał', 87), ('Agnieszka', 16), ('Mateusz', 89), ('Anna', 67), ('Katarzyna', 48), ('Ewa', 12), ('Mateusz', 57), ('Mateusz', 55), ('Dominika', 55), ('Magdalena', 24), ('Karolina', 19), ('Anna', 7), ('Natalia', 26), ('Mateusz', 78), ('Anna', 60), ('Adam', 29), ('Łukasz', 59), ('Mateusz', 78), ('Natalia', 8), ('Adam', 89), ('Karolina', 52), ('Monika', 17), ('Monika', 37), ('Marta', 15), ('Ewa', 23), ('Jakub', 30), ('Mateusz', 14), ('Dominika', 15), ('Tomasz', 89), ('Natalia', 60), ('Agnieszka', 57), ('Karolina', 25), ('Monika', 26), ('Jakub', 51), ('Kamil', 84), ('Magdalena', 81), ('Magdalena', 72), ('Katarzyna', 17), ('Jan', 70), ('Ewa', 19), ('Ewa', 10), ('Łukasz', 23), ('Agnieszka', 74), ('Grzegorz', 68), ('Michał', 7), ('Adam', 17), ('Mateusz', 32), ('Karolina', 8), ('Jan', 68), ('Tomasz', 62), ('Katarzyna', 64), ('Agnieszka', 15), ('Jakub', 82), ('Adam', 81), ('Dominika', 81), ('Anna', 82), ('Kamil', 75), ('Dominika', 52), ('Łukasz', 53), ('Natalia', 14), ('Anna', 33), ('Magdalena', 75), ('Michał', 31), ('Dominika', 21), ('Karolina', 22), ('Piotr', 50), ('Karolina', 43), ('Jan', 12), ('Monika', 2), ('Marta', 50), ('Kamil', 27), ('Magdalena', 28), ('Karolina', 36), ('Jan', 84), ('Magdalena', 25), ('Karolina', 81), ('Tomasz', 47), ('Adam', 65), ('Adam', 6), ('Anna', 28), ('Ewa', 23), ('Grzegorz', 89), ('Piotr', 86), ('Anna', 12), ('Tomasz', 40), ('Dominika', 31), ('Karolina', 55), ('Monika', 24), ('Adam', 20), ('Ewa', 16), ('Dominika', 36), ('Magdalena', 82), ('Mateusz', 77), ('Mateusz', 74), ('Ewa', 31), ('Magdalena', 36), ('Katarzyna', 24), ('Adam', 39), ('Kamil', 11), ('Anna', 56), ('Grzegorz', 48), ('Grzegorz', 11), ('Katarzyna', 3), ('Jan', 13), ('Dominika', 47), ('Ewa', 5), ('Łukasz', 2), ('Jakub', 21), ('Dominika', 60), ('Marta', 10), ('Dominika', 57), ('Adam', 66), ('Piotr', 11), ('Łukasz', 8), ('Jan', 68), ('Agnieszka', 43), ('Marta', 18), ('Jan', 41), ('Agnieszka', 8), ('Magdalena', 74), ('Katarzyna', 38), ('Magdalena', 90), ('Marta', 78), ('Kamil', 63), ('Piotr', 59), ('Michał', 10), ('Ewa', 90), ('Anna', 67), ('Natalia', 79), ('Dominika', 60), ('Kamil', 33), ('Piotr', 23), ('Anna', 43), ('Monika', 15), ('Anna', 46), ('Katarzyna', 70), ('Katarzyna', 67), ('Jan', 42), ('Grzegorz', 62), ('Agnieszka', 12), ('Marta', 77), ('Marta', 37), ('Anna', 4), ('Ewa', 63), ('Katarzyna', 63), ('Mateusz', 64), ('Kamil', 29), ('Kamil', 14), ('Karolina', 12), ('Adam', 64), ('Grzegorz', 34), ('Jakub', 33), ('Karolina', 63), ('Piotr', 77), ('Adam', 50), ('Adam', 64), ('Łukasz', 5), ('Piotr', 7), ('Tomasz', 77), ('Jan', 14), ('Jakub', 79), ('Łukasz', 50), ('Katarzyna', 20), ('Michał', 23), ('Adam', 88), ('Adam', 44), ('Grzegorz', 81), ('Piotr', 1), ('Agnieszka', 45), ('Anna', 16), ('Natalia', 36), ('Tomasz', 54), ('Ewa', 43), ('Piotr', 31), ('Ewa', 60), ('Dominika', 18), ('Marta', 48), ('Ewa', 17), ('Karolina', 72), ('Agnieszka', 3), ('Kamil', 32), ('Jan', 68), ('Jan', 68), ('Agnieszka', 77), ('Anna', 33), ('Dominika', 33), ('Dominika', 3), ('Ewa', 58), ('Adam', 42), ('Łukasz', 58), ('Katarzyna', 13), ('Katarzyna', 68), ('Piotr', 7), ('Tomasz', 45), ('Mateusz', 45), ('Anna', 30), ('Mateusz', 44), ('Jakub', 14), ('Grzegorz', 11), ('Monika', 64), ('Michał', 74), ('Katarzyna', 6), ('Marta', 51), ('Jakub', 52), ('Katarzyna', 43), ('Ewa', 65), ('Łukasz', 17), ('Kamil', 12), ('Łukasz', 86), ('Jan', 82), ('Karolina', 85), ('Magdalena', 20), ('Ewa', 71), ('Magdalena', 58), ('Agnieszka', 59), ('Marta', 60), ('Łukasz', 28), ('Grzegorz', 84), ('Magdalena', 5), ('Karolina', 25), ('Michał', 45), ('Anna', 82), ('Piotr', 47), ('Dominika', 54), ('Marta', 6), ('Anna', 75), ('Katarzyna', 75), ('Jan', 89), ('Natalia', 33), ('Magdalena', 29), ('Marta', 85), ('Piotr', 9), ('Michał', 81), ('Jakub', 58), ('Karolina', 49), ('Magdalena', 29), ('Kamil', 36), ('Anna', 5), ('Marta', 73), ('Kamil', 86), ('Mateusz', 78), ('Tomasz', 62), ('Piotr', 67), ('Adam', 76), ('Magdalena', 48), ('Piotr', 47), ('Marta', 61), ('Natalia', 57), ('Kamil', 56), ('Grzegorz', 84), ('Jan', 29), ('Marta', 87), ('Grzegorz', 72), ('Piotr', 66), ('Natalia', 70), ('Adam', 13), ('Karolina', 20), ('Piotr', 90), ('Piotr', 48), ('Magdalena', 27), ('Michał', 70), ('Jakub', 31), ('Jan', 41), ('Marta', 28), ('Jakub', 26), ('Grzegorz', 60), ('Jan', 40), ('Tomasz', 58), ('Ewa', 59), ('Anna', 56), ('Michał', 9), ('Anna', 71), ('Monika', 18), ('Jakub', 59), ('Kamil', 14), ('Tomasz', 62), ('Grzegorz', 80), ('Tomasz', 79), ('Monika', 88), ('Grzegorz', 66), ('Magdalena', 32), ('Jakub', 60), ('Adam', 62), ('Marta', 51), ('Ewa', 71), ('Dominika', 36), ('Piotr', 41), ('Dominika', 19), ('Natalia', 66), ('Piotr', 35), ('Tomasz', 60), ('Magdalena', 60), ('Jan', 8), ('Łukasz', 10), ('Adam', 36), ('Mateusz', 2), ('Agnieszka', 8), ('Grzegorz', 14), ('Jakub', 35), ('Anna', 62), ('Adam', 26), ('Grzegorz', 55), ('Anna', 75), ('Jakub', 77), ('Jakub', 9), ('Piotr', 76), ('Kamil', 27), ('Tomasz', 77), ('Mateusz', 88), ('Agnieszka', 55), ('Agnieszka', 8), ('Anna', 15), ('Dominika', 89), ('Łukasz', 29), ('Łukasz', 61), ('Anna', 41), ('Katarzyna', 89), ('Tomasz', 62), ('Anna', 80), ('Marta', 38), ('Adam', 23), ('Grzegorz', 68), ('Adam', 62), ('Karolina', 3), ('Adam', 74), ('Tomasz', 37), ('Katarzyna', 37), ('Tomasz', 61), ('Michał', 1), ('Łukasz', 55), ('Anna', 58), ('Dominika', 17), ('Monika', 5), ('Natalia', 73), ('Mateusz', 81), ('Jakub', 60), ('Mateusz', 89), ('Jan', 80), ('Jan', 7), ('Kamil', 89), ('Magdalena', 10), ('Monika', 28), ('Anna', 60), ('Dominika', 55), ('Łukasz', 89), ('Michał', 52), ('Mateusz', 49), ('Michał', 32), ('Karolina', 25), ('Karolina', 37), ('Dominika', 59), ('Mateusz', 63), ('Jakub', 8), ('Magdalena', 65), ('Anna', 50), ('Ewa', 65), ('Marta', 10), ('Piotr', 15), ('Magdalena', 56), ('Ewa', 66), ('Jan', 34), ('Anna', 51), ('Kamil', 8), ('Monika', 37), ('Grzegorz', 48), ('Jan', 50), ('Anna', 55), ('Karolina', 77), ('Kamil', 14), ('Dominika', 81), ('Jakub', 41), ('Michał', 5), ('Anna', 52), ('Mateusz', 60), ('Katarzyna', 49), ('Magdalena', 35), ('Grzegorz', 5), ('Kamil', 35), ('Tomasz', 77), ('Magdalena', 16), ('Karolina', 83), ('Łukasz', 82), ('Karolina', 60), ('Kamil', 76), ('Michał', 18), ('Michał', 31), ('Adam', 15), ('Marta', 63), ('Katarzyna', 22), ('Łukasz', 72), ('Marta', 54), ('Tomasz', 36), ('Marta', 58), ('Michał', 64), ('Magdalena', 75), ('Tomasz', 19), ('Tomasz', 48), ('Jan', 19), ('Kamil', 2), ('Adam', 43), ('Adam', 24), ('Karolina', 78), ('Magdalena', 75), ('Natalia', 45), ('Anna', 11), ('Agnieszka', 42), ('Grzegorz', 79), ('Łukasz', 64), ('Tomasz', 13), ('Piotr', 72), ('Łukasz', 56), ('Jakub', 90), ('Adam', 42), ('Kamil', 28), ('Ewa', 27), ('Łukasz', 5), ('Katarzyna', 45), ('Piotr', 16), ('Mateusz', 38), ('Kamil', 39), ('Piotr', 47), ('Łukasz', 49), ('Katarzyna', 1), ('Piotr', 58), ('Monika', 78), ('Mateusz', 19), ('Natalia', 52), ('Łukasz', 34), ('Natalia', 10), ('Piotr', 70), ('Monika', 40), ('Natalia', 53), ('Karolina', 86), ('Monika', 58), ('Agnieszka', 72), ('Grzegorz', 82), ('Jan', 64), ('Anna', 53), ('Marta', 36), ('Marta', 4), ('Grzegorz', 85), ('Marta', 21), ('Natalia', 13), ('Tomasz', 35), ('Jakub', 42), ('Adam', 51), ('Kamil', 72), ('Katarzyna', 11), ('Agnieszka', 80), ('Michał', 71), ('Agnieszka', 81), ('Monika', 20), ('Agnieszka', 1), ('Kamil', 76), ('Jan', 15), ('Dominika', 44), ('Jan', 49), ('Adam', 54), ('Magdalena', 41), ('Anna', 56), ('Monika', 51), ('Jan', 1), ('Natalia', 3), ('Kamil', 74), ('Monika', 8), ('Ewa', 6), ('Adam', 23), ('Magdalena', 37), ('Mateusz', 9), ('Marta', 15), ('Adam', 82), ('Katarzyna', 57), ('Natalia', 64), ('Grzegorz', 51), ('Łukasz', 11), ('Agnieszka', 42), ('Kamil', 90), ('Karolina', 44), ('Agnieszka', 9), ('Piotr', 61), ('Natalia', 60), ('Dominika', 15), ('Piotr', 70), ('Adam', 25), ('Ewa', 52), ('Monika', 40), ('Magdalena', 22), ('Anna', 82), ('Karolina', 75), ('Magdalena', 64), ('Agnieszka', 30), ('Magdalena', 52), ('Jakub', 35), ('Marta', 7), ('Monika', 34), ('Adam', 20), ('Tomasz', 62), ('Jan', 56), ('Piotr', 65), ('Piotr', 81), ('Agnieszka', 82), ('Grzegorz', 15), ('Agnieszka', 5), ('Katarzyna', 75), ('Michał', 28), ('Natalia', 7), ('Ewa', 59), ('Jakub', 11), ('Anna', 54), ('Anna', 37), ('Magdalena', 43), ('Tomasz', 52), ('Ewa', 51), ('Michał', 65), ('Agnieszka', 70), ('Ewa', 59), ('Łukasz', 61), ('Jakub', 20), ('Marta', 66), ('Ewa', 55), ('Katarzyna', 15), ('Agnieszka', 54), ('Ewa', 40), ('Magdalena', 63), ('Michał', 50), ('Grzegorz', 84), ('Jakub', 33), ('Grzegorz', 57), ('Mateusz', 27), ('Adam', 40), ('Mateusz', 45), ('Natalia', 45), ('Adam', 5), ('Agnieszka', 82), ('Mateusz', 44), ('Dominika', 32), ('Anna', 75), ('Michał', 75), ('Jan', 82), ('Michał', 43), ('Agnieszka', 26), ('Tomasz', 58), ('Marta', 6), ('Katarzyna', 63), ('Katarzyna', 86), ('Katarzyna', 64), ('Piotr', 69), ('Marta', 63), ('Łukasz', 47), ('Kamil', 70), ('Natalia', 57), ('Karolina', 1), ('Grzegorz', 17), ('Agnieszka', 53), ('Katarzyna', 85), ('Natalia', 28), ('Ewa', 16), ('Agnieszka', 26), ('Monika', 8), ('Agnieszka', 6), ('Karolina', 86), ('Michał', 58), ('Monika', 60), ('Katarzyna', 49), ('Piotr', 53), ('Piotr', 50), ('Tomasz', 83), ('Łukasz', 42), ('Adam', 15), ('Anna', 73), ('Natalia', 40), ('Adam', 49), ('Grzegorz', 18), ('Jan', 87), ('Karolina', 33), ('Ewa', 16), ('Anna', 58), ('Karolina', 5), ('Magdalena', 27), ('Łukasz', 35), ('Marta', 33), ('Tomasz', 56), ('Tomasz', 87), ('Ewa', 46), ('Agnieszka', 39), ('Mateusz', 17), ('Ewa', 59), ('Natalia', 4), ('Kamil', 9), ('Natalia', 36), ('Dominika', 67), ('Natalia', 40), ('Natalia', 49), ('Adam', 72), ('Adam', 2), ('Natalia', 56), ('Monika', 47), ('Mateusz', 73), ('Grzegorz', 83), ('Anna', 63), ('Anna', 88), ('Jakub', 42), ('Mateusz', 75), ('Michał', 84), ('Karolina', 63), ('Agnieszka', 32), ('Karolina', 64), ('Piotr', 37), ('Katarzyna', 13), ('Michał', 51), ('Marta', 30), ('Mateusz', 22), ('Kamil', 40), ('Piotr', 10), ('Natalia', 68), ('Grzegorz', 88), ('Natalia', 83), ('Jakub', 33), ('Adam', 80), ('Anna', 12), ('Anna', 34), ('Agnieszka', 69), ('Natalia', 83), ('Mateusz', 76), ('Magdalena', 11), ('Adam', 61), ('Piotr', 27), ('Jan', 22), ('Dominika', 10), ('Kamil', 60), ('Karolina', 59), ('Magdalena', 32), ('Katarzyna', 77), ('Anna', 1), ('Marta', 86), ('Jakub', 12), ('Natalia', 36), ('Natalia', 10), ('Karolina', 84), ('Kamil', 64), ('Tomasz', 79), ('Jakub', 15), ('Piotr', 63), ('Michał', 35), ('Jakub', 19), ('Michał', 55), ('Tomasz', 9), ('Karolina', 22), ('Karolina', 31), ('Adam', 67), ('Mateusz', 33), ('Jakub', 6), ('Grzegorz', 33), ('Mateusz', 3), ('Natalia', 85), ('Agnieszka', 21), ('Piotr', 47), ('Magdalena', 15), ('Piotr', 81), ('Marta', 53), ('Marta', 67), ('Tomasz', 68), ('Adam', 5), ('Michał', 66), ('Mateusz', 54), ('Jan', 51), ('Jan', 41), ('Jan', 61), ('Adam', 2), ('Grzegorz', 37), ('Jan', 9), ('Adam', 10), ('Karolina', 59), ('Mateusz', 85), ('Piotr', 31), ('Tomasz', 86), ('Kamil', 52), ('Mateusz', 55), ('Jan', 32), ('Natalia', 73), ('Natalia', 45), ('Jakub', 14), ('Ewa', 74), ('Monika', 20), ('Kamil', 81), ('Ewa', 46), ('Kamil', 74), ('Adam', 23), ('Grzegorz', 18), ('Dominika', 85), ('Katarzyna', 74), ('Anna', 6), ('Kamil', 60), ('Mateusz', 16), ('Natalia', 73), ('Magdalena', 21), ('Michał', 61), ('Marta', 12), ('Grzegorz', 15), ('Anna', 88), ('Marta', 64), ('Dominika', 17), ('Agnieszka', 53), ('Tomasz', 53), ('Ewa', 64), ('Agnieszka', 18), ('Grzegorz', 34), ('Monika', 28), ('Grzegorz', 43), ('Agnieszka', 63), ('Adam', 47), ('Kamil', 70), ('Jan', 58), ('Anna', 67), ('Piotr', 63), ('Agnieszka', 23), ('Magdalena', 41), ('Karolina', 61), ('Marta', 18), ('Katarzyna', 4), ('Dominika', 55), ('Michał', 69), ('Dominika', 51), ('Adam', 2), ('Jakub', 34), ('Adam', 72), ('Magdalena', 68), ('Marta', 55), ('Jakub', 43), ('Agnieszka', 77), ('Piotr', 58), ('Grzegorz', 24), ('Karolina', 3), ('Agnieszka', 10), ('Magdalena', 37), ('Karolina', 46), ('Łukasz', 30), ('Adam', 90), ('Michał', 45), ('Jakub', 72), ('Ewa', 34), ('Mateusz', 83), ('Agnieszka', 69), ('Łukasz', 26), ('Monika', 55), ('Jakub', 14), ('Grzegorz', 62), ('Katarzyna', 23), ('Natalia', 83), ('Katarzyna', 84), ('Tomasz', 39), ('Karolina', 28), ('Anna', 86), ('Karolina', 79), ('Ewa', 7), ('Monika', 34), ('Marta', 31), ('Monika', 19), ('Piotr', 17), ('Monika', 7), ('Magdalena', 41), ('Magdalena', 41), ('Anna', 33), ('Katarzyna', 59), ('Piotr', 83), ('Jakub', 53), ('Jan', 18), ('Katarzyna', 57), ('Dominika', 41), ('Agnieszka', 53), ('Dominika', 16), ('Łukasz', 36), ('Karolina', 16), ('Kamil', 33), ('Łukasz', 89), ('Piotr', 28), ('Magdalena', 60), ('Karolina', 81), ('Marta', 50), ('Grzegorz', 76), ('Adam', 90), ('Kamil', 54), ('Michał', 53), ('Magdalena', 46), ('Natalia', 74), ('Jan', 37), ('Grzegorz', 6), ('Kamil', 2), ('Michał', 88), ('Łukasz', 74), ('Karolina', 13), ('Magdalena', 83), ('Katarzyna', 11), ('Jan', 37), ('Jakub', 69), ('Karolina', 77), ('Adam', 44), ('Agnieszka', 88), ('Łukasz', 23), ('Natalia', 27), ('Tomasz', 78), ('Adam', 69), ('Mateusz', 49), ('Marta', 9), ('Jakub', 15), ('Tomasz', 32), ('Ewa', 22), ('Magdalena', 87), ('Tomasz', 52), ('Adam', 54), ('Grzegorz', 37), ('Katarzyna', 44), ('Anna', 30), ('Marta', 48), ('Karolina', 61), ('Anna', 40), ('Anna', 74), ('Adam', 83), ('Piotr', 79), ('Marta', 7), ('Karolina', 37), ('Adam', 49), ('Dominika', 83), ('Tomasz', 76), ('Adam', 90), ('Adam', 51), ('Katarzyna', 74), ('Tomasz', 79), ('Tomasz', 72), ('Natalia', 56), ('Michał', 19), ('Adam', 27), ('Michał', 60), ('Jakub', 42), ('Grzegorz', 55), ('Adam', 46), ('Tomasz', 55), ('Katarzyna', 44), ('Piotr', 1), ('Kamil', 9), ('Monika', 65), ('Anna', 35), ('Kamil', 50), ('Michał', 8), ('Monika', 51), ('Tomasz', 5), ('Jan', 69), ('Tomasz', 26), ('Tomasz', 33), ('Tomasz', 84), ('Mateusz', 47), ('Grzegorz', 2), ('Adam', 53), ('Katarzyna', 76), ('Dominika', 86), ('Jakub', 40), ('Anna', 10), ('Grzegorz', 57), ('Karolina', 69), ('Karolina', 77), ('Tomasz', 74), ('Monika', 57), ('Marta', 22), ('Natalia', 32), ('Grzegorz', 56), ('Karolina', 56), ('Magdalena', 8), ('Monika', 80), ('Kamil', 87), ('Katarzyna', 84), ('Grzegorz', 11), ('Adam', 86), ('Jakub', 70), ('Anna', 56), ('Natalia', 79), ('Ewa', 13), ('Michał', 16), ('Monika', 8), ('Magdalena', 72), ('Michał', 86), ('Jakub', 39), ('Jakub', 44), ('Agnieszka', 33), ('Adam', 81), ('Jan', 40), ('Tomasz', 36), ('Grzegorz', 71), ('Jan', 56), ('Grzegorz', 4), ('Ewa', 32), ('Tomasz', 38), ('Mateusz', 2), ('Piotr', 30), ('Michał', 61), ('Łukasz', 89), ('Dominika', 74), ('Jakub', 39), ('Michał', 11), ('Dominika', 30), ('Marta', 19), ('Łukasz', 45), ('Marta', 84), ('Grzegorz', 33), ('Kamil', 13), ('Marta', 57), ('Łukasz', 55), ('Łukasz', 8), ('Adam', 49), ('Adam', 5), ('Jan', 43), ('Dominika', 70), ('Monika', 63), ('Grzegorz', 12), ('Grzegorz', 20), ('Tomasz', 34), ('Michał', 14), ('Grzegorz', 4), ('Michał', 1), ('Grzegorz', 36), ('Anna', 58), ('Dominika', 39), ('Tomasz', 71), ('Michał', 14), ('Natalia', 68), ('Karolina', 58), ('Jan', 16), ('Jakub', 84), ('Tomasz', 74), ('Ewa', 79), ('Jan', 70), ('Ewa', 53), ('Katarzyna', 42), ('Agnieszka', 70), ('Łukasz', 86), ('Grzegorz', 82), ('Anna', 16), ('Natalia', 9), ('Magdalena', 56), ('Natalia', 53), ('Monika', 54), ('Magdalena', 44), ('Michał', 13), ('Mateusz', 15), ('Magdalena', 53), ('Michał', 42), ('Grzegorz', 26), ('Michał', 58), ('Monika', 84), ('Adam', 79), ('Anna', 90), ('Natalia', 77), ('Mateusz', 30), ('Mateusz', 23), ('Katarzyna', 58), ('Grzegorz', 17), ('Mateusz', 89), ('Jan', 26), ('Piotr', 27), ('Anna', 88), ('Tomasz', 81)]"
      ]
    },
    {
      "cell_type": "markdown",
      "source": [
        "# Wstęp\n",
        "\n",
        "1. Montowanie dysku Google"
      ],
      "metadata": {
        "id": "gM5FbVp9Ovjv"
      }
    },
    {
      "cell_type": "code",
      "source": [],
      "metadata": {
        "id": "1ZR-SNUJ8xe7"
      },
      "execution_count": null,
      "outputs": []
    },
    {
      "cell_type": "code",
      "source": [
        "from google.colab import drive\n",
        "drive.mount('/content/drive')"
      ],
      "metadata": {
        "id": "yLoA48IMOA3-"
      },
      "execution_count": null,
      "outputs": []
    },
    {
      "cell_type": "markdown",
      "source": [
        "**2. Poniższy fragment kodu od pewnego czasu wydaje się być niepotrzebny aby uruchomić `pyspark` w Goofle Colab ponieważ jest on domyślnie tu zainstalowany. (kod został napisany ponad pół roku temu)**\n",
        "\n",
        "- Jest to jednak dobry moment aby zacząć współpracować z AI.\n",
        "- Dlaczego? Bo programowanie przestało być lukratywnym zajęciem, próg wejścia do tworzenia oprogramowania znacząco się obniżył i nadal szybko się obniża dzięki modelom generatywnym.\n",
        "- Edukacja przejdzie ogromne zminany. Przeklikiwanie treści przygotowanych przez prowadzącego wydaje się tracić sens. Większe znaczenie nabiera umiejętność nauki przy współpracy z AI jako wysoce spersonalizowanym tutorem.\n",
        "- Podczas zajęć będę zachęcać Państwa do **ODPOWIEDIZALNEGO I SWIADOMEGO KORZYSTNAIA Z AI** uwzględniając korzyści i pułapki jakie ze sobą niesie."
      ],
      "metadata": {
        "id": "KzP9z7zHwCWt"
      }
    },
    {
      "cell_type": "markdown",
      "source": [
        "**Polecenie 2**:\n",
        "\n",
        "- Kliknij PPM w komórce poniżej i wybierz polecenie \"wyjaśnij kod\"\n",
        "- Po utworzeniu panelu po prawej stronie. Napisz prompt proszący o tworzenie wyjaśnień i komunikację w jęzuku polskim.\n",
        "- Jeżeli jakieś pojęcie w wyjaśnieniu dla Ciebie niezrozumiałe poproś o dojaśnienie z zaznaczeniem jakiego rodzaju jesteś odbiorcą. Np (programistą, osobą, która chce zacząć przygodę z informatyką)\n",
        "\n",
        "**Prowadzący**:\n",
        "- Po wykonaniu ćwiczenia prosi 2 \"skarajne\" pod kątem doświadczenia osoby o pokazanie swojej odpowiedzi przez Teams na grupie aby sprawdzić czy Model dopasował sposób do oczekiwać użytkownika."
      ],
      "metadata": {
        "id": "8QiRUoYqyrHo"
      }
    },
    {
      "cell_type": "markdown",
      "source": [
        "#**UWAGA**\n",
        "\n",
        "- Od tego momentu osoby, dla których pojęcia pojawiające się w poleceniach są obcne np. \"zmienna środowiskowa\" czy \"biblioteka\" - proszą o objaśnienie wybranego terminu przez Gemini.\n",
        "\n",
        "**Prowadzący** uświadamia istnienia zjawiska halucynacji, metod postępowania w celu zredukowania ryzyka jej wystąpienia oraz wskazuje kiedy ryzyko jej wystąpienia jest większe.\n",
        "\n",
        "\n",
        "\n",
        "<br>\n",
        "<br>\n",
        "\n",
        "\n",
        "\n",
        "\n"
      ],
      "metadata": {
        "id": "vu7BGU7n1IHe"
      }
    },
    {
      "cell_type": "code",
      "source": [
        "!sudo apt update\n",
        "!apt-get install -y openjdk-8-jdk-headless -qq > /dev/null #install Java\n",
        "!wget -q https://dlcdn.apache.org/spark/spark-3.5.0/spark-3.5.0-bin-hadoop3.tgz  #download spark\n",
        "!tar xf spark-3.5.0-bin-hadoop3.tgz # unzip it\n",
        "!pip install -q findspark # install findspark"
      ],
      "metadata": {
        "id": "K_ow3wtdO0Bk"
      },
      "execution_count": null,
      "outputs": []
    },
    {
      "cell_type": "markdown",
      "source": [
        "2. Ustawianie zmiennych środowiskowych\n",
        "Można zarządzać wieloma wersjami Sparka, wskazując odpowiednią wersję za pomocą zmiennych środowiskowych. Należy uruchomić poniższe polecenia, aby wskazać pobraną wcześniej wersję Apache Spark."
      ],
      "metadata": {
        "id": "JfxbU95xPGg0"
      }
    },
    {
      "cell_type": "code",
      "source": [
        "import os\n",
        "os.environ[\"JAVA_HOME\"] = \"/usr/lib/jvm/java-8-openjdk-amd64\"\n",
        "os.environ[\"SPARK_HOME\"] = \"/content/spark-3.5.0-bin-hadoop3\""
      ],
      "metadata": {
        "id": "4gf47IhlPCvC"
      },
      "execution_count": null,
      "outputs": []
    },
    {
      "cell_type": "code",
      "source": [
        "import pyspark\n",
        "print(pyspark.__version__) # Check the pyspark version"
      ],
      "metadata": {
        "id": "y4LkqiLLPMHB"
      },
      "execution_count": null,
      "outputs": []
    },
    {
      "cell_type": "markdown",
      "source": [
        "# **Tworzenie RDD - Resilient Distributed Dataset**\n",
        "*Odporny rozproszony zbiór danych*\n",
        "\n",
        "**Co to jest RDD?**\n",
        "\n",
        "Główną abstrakcją dostarczaną przez Spark jest odporny rozproszony zbiór danych (RDD), który jest zbiorem elementów podzielonych na węzły klastra, które mogą być obsługiwane w równolegle.\n",
        "\n",
        "**Aby utworzyć RDD**, najpierw musisz utworzyć **SparkSession**, który jest punktem wejścia do aplikacji PySpark. Można nadać nazwę sesji za pomocą appName() i dodać kilka konfiguracji za pomocą config().\n",
        "\n",
        "\n"
      ],
      "metadata": {
        "id": "bh8k-a5JPVkC"
      }
    },
    {
      "cell_type": "markdown",
      "source": [
        "**Polecenie 3**\n",
        "\n",
        "Napisz prompt proszący o objaśnienie czym jest RDD. Napoisz go w taki sposób aby uwzględmniał Twoje doświadczenie lub zainteresowania i na tej podstawie wyjaśniał RDD poprzez analogie."
      ],
      "metadata": {
        "id": "qgDpAVJQ25Gf"
      }
    },
    {
      "cell_type": "markdown",
      "source": [
        "**Polecenie 4**\n",
        "\n",
        "Uruchom poniższy kod. Zainicjuje on sesję Sparka."
      ],
      "metadata": {
        "id": "I7Whcja_7LWW"
      }
    },
    {
      "cell_type": "code",
      "source": [
        "from pyspark.sql import SparkSession\n",
        "\n",
        "spark = SparkSession.builder\\\n",
        "        .master(\"local\")\\\n",
        "        .appName(\"Colab\")\\\n",
        "        .config('spark.ui.port', '4050')\\\n",
        "        .getOrCreate()"
      ],
      "metadata": {
        "id": "a0uVl1fOPU1Q"
      },
      "execution_count": null,
      "outputs": []
    },
    {
      "cell_type": "markdown",
      "source": [
        "Na koniec wyświetl zmienną SparkSession."
      ],
      "metadata": {
        "id": "XUODWdW6PkoI"
      }
    },
    {
      "cell_type": "code",
      "source": [
        "spark"
      ],
      "metadata": {
        "id": "iQH4ER07PkDa"
      },
      "execution_count": null,
      "outputs": []
    },
    {
      "cell_type": "markdown",
      "source": [
        "Jeśli wszystko pójdzie dobrze, wyświetlą się powyższe dane wyjściowe.\n",
        "Następnie tworzymy SparkContext - operacje przeprowadzane na RDD są realizowane w ramach kontekstu Sparka - SparkContext."
      ],
      "metadata": {
        "id": "IznrP46BPp3K"
      }
    },
    {
      "cell_type": "code",
      "source": [
        "sc=spark.sparkContext"
      ],
      "metadata": {
        "id": "eI6ZDmnDPlq4"
      },
      "execution_count": null,
      "outputs": []
    },
    {
      "cell_type": "markdown",
      "source": [
        "**Zapamiętać!**\n",
        "\n",
        "SparkSession określany w kodzie jako **spark**.\n",
        "\n",
        "SparkContext określany w kodzie jako **sc**."
      ],
      "metadata": {
        "id": "rC7qHB52Px2_"
      }
    },
    {
      "cell_type": "markdown",
      "source": [
        "# Tworzenie RDD\n",
        "W tym przykładzie użyto metody ``parallelize()``, aby utworzyć Resilient Distributed Dataset (RDD) z listy tupli ``person_list``.\n",
        "\n",
        "---\n",
        "To podejście jest bardzo przydatne podczas nauki Sparka, ponieważ można szybko tworzyć w powłoce swoje własne RDD i wykonywać na nich działania. Trzeba jednak pamiętać, że poza tworzeniem prototypów i testowaniem nie jest ono szeroko stosowane, ponieważ trzeba mieć całą bazę danych pamięci na jednej maszynie."
      ],
      "metadata": {
        "id": "JrGSNPjvQBFZ"
      }
    },
    {
      "cell_type": "markdown",
      "source": [
        "## \"Stara Szkoła Powraca\" - prowadzący samodzielnie przechodzi przez kolejne komórki i tłumaczy co się dzieje w kodzie.  "
      ],
      "metadata": {
        "id": "Xuex3y8D7ns0"
      }
    },
    {
      "cell_type": "code",
      "source": [
        "# Tworzenie RDD z dwoma partycjami\n",
        "rdd = sc.parallelize(person_list, 2)"
      ],
      "metadata": {
        "id": "rs2oz-BoPwQi"
      },
      "execution_count": null,
      "outputs": []
    },
    {
      "cell_type": "code",
      "source": [
        "# Zebranie zawartości partycji do jednej listy\n",
        "collected_data = rdd.glom().collect()"
      ],
      "metadata": {
        "id": "hgWfg0CD6oBA"
      },
      "execution_count": null,
      "outputs": []
    },
    {
      "cell_type": "code",
      "source": [
        "# Wyświetlenie zawartości partycji\n",
        "for i, partition_data in enumerate(collected_data):\n",
        "    print(f\"Partition {i + 1}: {partition_data}\")\n",
        "    print(f\"Partition {i + 1}: len {len(partition_data)}\")"
      ],
      "metadata": {
        "id": "7llYKw8-6qdv"
      },
      "execution_count": null,
      "outputs": []
    },
    {
      "cell_type": "markdown",
      "source": [
        "**Uwaga!** Częściej używaną metodą tworzenia zbiorów RDD jest ładowanie danych z pamięci zewnętrznej.  Możemy też wykorzystać metodę ładującą plik tekstowy jako RDD, ``SparkContext.textFile()``, która zostanie zaprezentowana na następnych zajęciach."
      ],
      "metadata": {
        "id": "S_sv0fcXyNcW"
      }
    },
    {
      "cell_type": "markdown",
      "source": [
        "Pobierzmy dane z utworzonego ``rdd`` i wyświetlmy za pomocą funkcji ``collect()``.\n",
        "Uwaga! Pamiętaj, że ``collect()`` powinno być używane ostrożnie, zwłaszcza z dużymi zestawami danych, ponieważ pobiera wszystkie dane do lokalnego środowiska, co może prowadzić do problemów z wydajnością, innymi słowy: cały zbiór musi mieścić się w pamięci pojedynczej maszyny, więc ``collect()`` nie można używać na dużych zbiorach danych."
      ],
      "metadata": {
        "id": "pjsezhaGQgZH"
      }
    },
    {
      "cell_type": "code",
      "source": [
        "rdd.collect()"
      ],
      "metadata": {
        "id": "Kker9-YVQfTs"
      },
      "execution_count": null,
      "outputs": []
    },
    {
      "cell_type": "markdown",
      "source": [
        "RDD jest niemodyfikowalny. Poprzez ``transformację`` otrzymamy kolejny RDD."
      ],
      "metadata": {
        "id": "1rqS7hUZwILj"
      }
    },
    {
      "cell_type": "code",
      "source": [
        "# Próba zmiany wartości w RDD (coś, co jest niemożliwe w RDD)\n",
        "try:\n",
        "    rdd[0] = 10\n",
        "except TypeError as e:\n",
        "    print(f\"TypeError: {e}\")\n",
        "    print(\"Nie można zmieniać elementów w RDD, ponieważ jest niemodyfikowalne.\")"
      ],
      "metadata": {
        "id": "eApnQjyZwM0j"
      },
      "execution_count": null,
      "outputs": []
    },
    {
      "cell_type": "code",
      "source": [
        "# Próba dodania nowego elementu do RDD (co również jest niemożliwe)\n",
        "try:\n",
        "    rdd += [6]\n",
        "except TypeError as e:\n",
        "    print(f\"TypeError: {e}\")\n",
        "    print(\"Nie można dodawać nowych elementów do RDD, ponieważ jest niemodyfikowalne.\")"
      ],
      "metadata": {
        "id": "Ef_ND3aw48lB"
      },
      "execution_count": null,
      "outputs": []
    },
    {
      "cell_type": "code",
      "source": [
        "# Próba usunięcia elementu z RDD (co również jest niemożliwe)\n",
        "try:\n",
        "    del rdd[0]\n",
        "except TypeError as e:\n",
        "    print(f\"TypeError: {e}\")\n",
        "    print(\"Nie można usuwać elementów z RDD, ponieważ jest niemodyfikowalne.\")\n"
      ],
      "metadata": {
        "id": "C3vAPjRK498U"
      },
      "execution_count": null,
      "outputs": []
    },
    {
      "cell_type": "markdown",
      "source": [
        "# RDD - akcje\n",
        "Operacje wyzwalające obliczenia i zwracające wartości RDD do sterownika., np. count(), collect(), first(), max(), reduce()..."
      ],
      "metadata": {
        "id": "LLkGRqmGQ_EM"
      }
    },
    {
      "cell_type": "markdown",
      "source": [
        "``count():`` Akcja ta zwraca liczbę elementów w RDD."
      ],
      "metadata": {
        "id": "yoTZmvWuSOn7"
      }
    },
    {
      "cell_type": "code",
      "source": [
        "count_rdd = rdd.count()\n",
        "count_rdd"
      ],
      "metadata": {
        "id": "CNKPGwopR8_l"
      },
      "execution_count": null,
      "outputs": []
    },
    {
      "cell_type": "markdown",
      "source": [
        "`first():` Akcja ta zwraca pierwszy element w RDD."
      ],
      "metadata": {
        "id": "jMtyuuNDSW3H"
      }
    },
    {
      "cell_type": "code",
      "source": [
        "rdd.first()"
      ],
      "metadata": {
        "id": "akskkTizSWkD"
      },
      "execution_count": null,
      "outputs": []
    },
    {
      "cell_type": "markdown",
      "source": [
        "``take(n):`` Akcja ta zwraca n-pierwszych elementów z RDD."
      ],
      "metadata": {
        "id": "qm4Rpo4uShqv"
      }
    },
    {
      "cell_type": "code",
      "source": [
        "rdd.take(2)"
      ],
      "metadata": {
        "id": "B7NVe7qdSb-b"
      },
      "execution_count": null,
      "outputs": []
    },
    {
      "cell_type": "markdown",
      "source": [
        "# RDD - transformacje\n",
        "**Transformacje RDD** –  Transformacje to leniwe operacje. Po uruchomieniu transformacji (na przykład aktualizacji) zamiast aktualizowania bieżącego RDD operacje te zwracają inny RDD, np. flatMap(),  map(),  reduceByKey(),  filter(),sortByKey()..."
      ],
      "metadata": {
        "id": "5VZgLAjvR3L2"
      }
    },
    {
      "cell_type": "markdown",
      "source": [
        "``map(func):`` Transformacja ta stosuje funkcję func do każdego elementu RDD i tworzy nowe RDD z wynikami."
      ],
      "metadata": {
        "id": "HkpF9mxDTKLo"
      }
    },
    {
      "cell_type": "code",
      "source": [
        "mapped_rdd = rdd.map(lambda x: (x[0].upper(), x[10]))\n",
        "mapped_rdd"
      ],
      "metadata": {
        "id": "W1AQdtgUQNHH"
      },
      "execution_count": null,
      "outputs": []
    },
    {
      "cell_type": "code",
      "source": [
        "mapped_rdd.take(2)"
      ],
      "metadata": {
        "id": "7SDAKCCGTaSM"
      },
      "execution_count": null,
      "outputs": []
    },
    {
      "cell_type": "markdown",
      "source": [
        "``filter(func):`` Transformacja ta tworzy nowe RDD zawierające tylko te elementy, które spełniają warunek określony przez funkcję func."
      ],
      "metadata": {
        "id": "pOsw8DZVTnUK"
      }
    },
    {
      "cell_type": "code",
      "source": [
        "rdd_filter = rdd.filter(lambda x: x[1] > 30)\n",
        "rdd_filter"
      ],
      "metadata": {
        "id": "a2rm2IPaTPxW"
      },
      "execution_count": null,
      "outputs": []
    },
    {
      "cell_type": "code",
      "source": [
        "rdd_filter.take(3) #z użyciem filtra"
      ],
      "metadata": {
        "id": "gFhL0yuEPfAD"
      },
      "execution_count": null,
      "outputs": []
    },
    {
      "cell_type": "code",
      "source": [
        "rdd.take(3) #oryginalny rdd"
      ],
      "metadata": {
        "id": "PDaVONtIT2r4"
      },
      "execution_count": null,
      "outputs": []
    },
    {
      "cell_type": "markdown",
      "source": [
        "``reduceByKey:``  transformacja, która grupuje elementy RDD według klucza, a następnie stosuje określoną funkcję redukującą do wartości w każdej grupie. Wynikiem jest nowe RDD, w którym każdy klucz ma jedną zredukowaną wartość. Na przykład, jeśli mamy dane w postaci (klucz, wartość), reduceByKey zastosuje funkcję redukującą (np. suma) do wartości dla każdego klucza."
      ],
      "metadata": {
        "id": "8UZYbZn0UWqb"
      }
    },
    {
      "cell_type": "code",
      "source": [
        "from operator import add\n",
        "#reducebykey_rdd = rdd.reduceByKey(lambda x, y: x + y)\n",
        "reducebykey_rdd = rdd.reduceByKey(add)"
      ],
      "metadata": {
        "id": "HoY5ujsWT_de"
      },
      "execution_count": null,
      "outputs": []
    },
    {
      "cell_type": "code",
      "source": [
        "reducebykey_rdd.collect()"
      ],
      "metadata": {
        "id": "psDSr2YyUu3p"
      },
      "execution_count": null,
      "outputs": []
    },
    {
      "cell_type": "markdown",
      "source": [
        "``sortBy`` operacja, która sortuje elementy RDD na podstawie określonego klucza lub funkcji sortującej. Operacja ta zwraca nowe RDD, w którym elementy są uporządkowane zgodnie z zadanymi kryteriami."
      ],
      "metadata": {
        "id": "8dJKrIi3YHIT"
      }
    },
    {
      "cell_type": "code",
      "source": [
        "sorted_rdd = rdd.sortBy(lambda x: x[1], ascending=False) #według wieku, malejąco\n",
        "sorted_rdd.take(50)"
      ],
      "metadata": {
        "id": "ydh1pCs6Vj8g"
      },
      "execution_count": null,
      "outputs": []
    },
    {
      "cell_type": "code",
      "source": [
        "sorted_rdd = rdd.sortBy(lambda x: (x[0], x[1]), ascending=True) #według imion i wieku, rosnąco\n",
        "sorted_rdd.take(10)"
      ],
      "metadata": {
        "id": "ws5Txo2xYqj5"
      },
      "execution_count": null,
      "outputs": []
    },
    {
      "cell_type": "markdown",
      "source": [
        "#Zapisz i wczytaj RDD do/z pliku tekstowego"
      ],
      "metadata": {
        "id": "S4FSZnDZZI7-"
      }
    },
    {
      "cell_type": "code",
      "source": [
        "# Zapisz RDD do pliku tekstowego\n",
        "rdd.saveAsTextFile(\"my_rdd\")"
      ],
      "metadata": {
        "id": "6AaMfxbTZSKq"
      },
      "execution_count": null,
      "outputs": []
    },
    {
      "cell_type": "code",
      "source": [
        "# Wczytaj dane z pliku tekstowego\n",
        "loaded_rdd = sc.textFile(\"my_rdd\")\n",
        "\n",
        "# Wyświetl wczytane dane\n",
        "print(loaded_rdd.collect())\n",
        "loaded_rdd.count()"
      ],
      "metadata": {
        "id": "cFLz-PuD4uCX"
      },
      "execution_count": null,
      "outputs": []
    },
    {
      "cell_type": "markdown",
      "source": [
        "# Zamykanie sesji Spark\n",
        "\n",
        "W Google Colab, sesja Sparka jest zarządzana w środowisku uruchomieniowym, i nie jesteś bezpośrednio odpowiedzialny za jej zamykanie. W tym środowisku, Spark Session jest dostępna w całym bloku notatnika, więc nie musisz się martwić o ręczne zamykanie sesji Spark.\n",
        "\n",
        "Jeśli jednak pracujesz lokalnie w innym środowisku i używasz Spark Session, zamykanie sesji Spark może być dobre praktyką, aby zwolnić zasoby. Sesja Spark zawiera zasoby, takie jak połączenia do klastra Spark i inne, które mogą być zwolnione, gdy już nie są potrzebne.\n",
        "\n",
        "W skrócie, w Google Colab nie musisz ręcznie zamykać sesji Spark, ale w innych środowiskach, zwłaszcza lokalnych, zamykanie sesji może być korzystne, aby zwolnić zasoby."
      ],
      "metadata": {
        "id": "1sb-l1asZxFv"
      }
    },
    {
      "cell_type": "code",
      "source": [
        "spark.stop()"
      ],
      "metadata": {
        "id": "_w9T4-HcZz6u"
      },
      "execution_count": null,
      "outputs": []
    }
  ]
}